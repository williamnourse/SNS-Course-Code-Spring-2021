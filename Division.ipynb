{
 "cells": [
  {
   "cell_type": "code",
   "execution_count": 1,
   "id": "impaired-applicant",
   "metadata": {},
   "outputs": [],
   "source": [
    "# William Nourse\n",
    "# Feb 11 2021\n",
    "\n",
    "import numpy as np\n",
    "import matplotlib\n",
    "import matplotlib.pyplot as plt\n",
    "from ipywidgets import interact_manual\n",
    "%matplotlib widget"
   ]
  },
  {
   "cell_type": "code",
   "execution_count": 12,
   "id": "scientific-application",
   "metadata": {},
   "outputs": [
    {
     "name": "stdout",
     "output_type": "stream",
     "text": [
      "10000\n"
     ]
    }
   ],
   "source": [
    "# Parameters\n",
    "Cm = 5 # nF\n",
    "Gm = 1 # uS\n",
    "Er = -60 # mV\n",
    "R = 20.0 # mV\n",
    "\n",
    "dt = 0.01 # ms\n",
    "tmax = 100 # ms\n",
    "t = np.arange(0,tmax,dt)\n",
    "numSteps = np.size(t)\n",
    "print(numSteps)"
   ]
  },
  {
   "cell_type": "code",
   "execution_count": 19,
   "id": "detailed-knight",
   "metadata": {},
   "outputs": [],
   "source": [
    "def divide(Iapp1,Iapp2,c,log=False):\n",
    "    current = np.zeros(numSteps)\n",
    "    current[int(numSteps/2):-1] = Iapp1\n",
    "    \n",
    "    Esyn = Er\n",
    "    delEsyn = Esyn-Er\n",
    "    gSyn = 1/c-1\n",
    "    if log:\n",
    "        print('gSyn = %.3f'%(gSyn))\n",
    "    \n",
    "    U1 = np.zeros(numSteps)\n",
    "    U2 = np.zeros(numSteps)\n",
    "    \n",
    "    for i in range(1,numSteps):\n",
    "        U1[i] = U1[i-1] + dt/Cm*(current[i-1]-Gm*U1[i-1])\n",
    "        if U1[i-1]<R and U1[i-1]>0:\n",
    "            g = U1[i-1]/R*gSyn\n",
    "        elif U1[i-1]>=R:\n",
    "            g = gSyn1\n",
    "        else:\n",
    "            g = 0\n",
    "        U2[i] = U2[i-1] + dt/Cm*(Iapp2+g*(delEsyn-U2[i-1])-Gm*U2[i-1])\n",
    "        \n",
    "    return U1,U2"
   ]
  },
  {
   "cell_type": "code",
   "execution_count": 25,
   "id": "advised-evans",
   "metadata": {},
   "outputs": [
    {
     "data": {
      "application/vnd.jupyter.widget-view+json": {
       "model_id": "caae9adead2e45d0b0e86b8270cd7811",
       "version_major": 2,
       "version_minor": 0
      },
      "text/plain": [
       "interactive(children=(FloatSlider(value=20.0, description='Iapp1', max=20.0), FloatSlider(value=10.0, descript…"
      ]
     },
     "metadata": {},
     "output_type": "display_data"
    },
    {
     "data": {
      "text/plain": [
       "<function __main__.interactDiv(Iapp1=20.0, Iapp2=10.0, c=0.2)>"
      ]
     },
     "execution_count": 25,
     "metadata": {},
     "output_type": "execute_result"
    }
   ],
   "source": [
    "def interactDiv(Iapp1=20.0,Iapp2=10.0,c=0.2):\n",
    "    _,U2 = divide(Iapp1,Iapp2,c,log=True)\n",
    "    \n",
    "    plt.figure(figsize=(30,10))\n",
    "    plt.subplot(1,2,1)\n",
    "    plt.axhline(y=(c*Iapp2),linestyle=':',color='k',linewidth=5,label='Goal')\n",
    "    plt.plot(t,U2,linewidth=10,label='$U_2^*$')\n",
    "    plt.legend()\n",
    "    plt.xlabel('Time (ms)')\n",
    "    plt.ylabel('Potential (mV)')\n",
    "    plt.title('Response')\n",
    "    \n",
    "    Iapp1 = np.linspace(0.0,R)\n",
    "    U2str = np.zeros(np.size(Iapp1))\n",
    "    for i in range(np.size(Iapp1)):\n",
    "        _,U2 = divide(Iapp1[i],Iapp2,c,log=False)\n",
    "        U2str[i] = U2[-1]\n",
    "    plt.subplot(1,2,2)\n",
    "    plt.plot(Iapp1,(-(1-c)/R*Iapp2*Iapp1+Iapp2),color='k',linestyle=':',linewidth=5,label='Goal')\n",
    "    plt.plot(Iapp1,U2str,linewidth=10,label='$U_2^*$')\n",
    "    plt.legend()\n",
    "    plt.xlabel('$I_{app,1}$')\n",
    "    plt.ylabel('$U_2^*$')\n",
    "    plt.title('Overall Behavior')\n",
    "    \n",
    "interact_manual(interactDiv,Iapp1=(0.0,R),Iapp2=(0.0,R),c=(0.001,1.0))"
   ]
  },
  {
   "cell_type": "markdown",
   "id": "fifth-sensitivity",
   "metadata": {},
   "source": [
    "# Takeaway: While the division network works, the result is nonlinear scaling. This nonlinear behavior gets worse as c gets smaller"
   ]
  },
  {
   "cell_type": "code",
   "execution_count": null,
   "id": "handed-stand",
   "metadata": {},
   "outputs": [],
   "source": []
  }
 ],
 "metadata": {
  "kernelspec": {
   "display_name": "Python 3",
   "language": "python",
   "name": "python3"
  },
  "language_info": {
   "codemirror_mode": {
    "name": "ipython",
    "version": 3
   },
   "file_extension": ".py",
   "mimetype": "text/x-python",
   "name": "python",
   "nbconvert_exporter": "python",
   "pygments_lexer": "ipython3",
   "version": "3.8.5"
  }
 },
 "nbformat": 4,
 "nbformat_minor": 5
}
