{
 "cells": [
  {
   "cell_type": "code",
   "execution_count": 1,
   "id": "serial-incident",
   "metadata": {},
   "outputs": [],
   "source": [
    "# William Nourse\n",
    "# Feb 11 2021\n",
    "\n",
    "import numpy as np\n",
    "import matplotlib\n",
    "import matplotlib.pyplot as plt\n",
    "from ipywidgets import interact_manual\n",
    "#%matplotlib widget"
   ]
  },
  {
   "cell_type": "code",
   "execution_count": 2,
   "id": "latest-paraguay",
   "metadata": {},
   "outputs": [],
   "source": [
    "# Parameters\n",
    "Cm = 10 # nF\n",
    "Gm = 1 # uS\n",
    "Er = -60 # mV\n",
    "R = 20.0 # mV\n",
    "\n",
    "dt = 0.01 # ms\n",
    "tmax = 100 # ms\n",
    "t = np.arange(0,tmax,dt)\n",
    "numSteps = np.size(t)"
   ]
  },
  {
   "cell_type": "code",
   "execution_count": 3,
   "id": "turned-explorer",
   "metadata": {},
   "outputs": [],
   "source": [
    "def addition(Iapp1,Iapp2,k1,k2,Esyn=0,log=False):\n",
    "    delEsyn = Esyn-Er\n",
    "    gSyn1 = k1*R/(delEsyn-k1*R)\n",
    "    gSyn2 = k2*R/(delEsyn-k2*R)\n",
    "    \n",
    "    if log:\n",
    "        print('gSyn1 = %.3f, gSyn2 = %.3f'%(gSyn1,gSyn2))\n",
    "    \n",
    "    U1 = np.zeros(numSteps)\n",
    "    U2 = np.zeros(numSteps)\n",
    "    U3 = np.zeros(numSteps)\n",
    "    \n",
    "    for i in range(1,numSteps):\n",
    "        U1[i] = U1[i-1] + dt/Cm*(Iapp1-Gm*U1[i-1])\n",
    "        if U1[i-1]<R:\n",
    "            g1 = U1[i-1]/R*gSyn1\n",
    "        else:\n",
    "            g1 = gSyn1\n",
    "        U2[i] = U2[i-1] + dt/Cm*(Iapp2-Gm*U2[i-1])\n",
    "        if U2[i-1]<R:\n",
    "            g2 = U2[i-1]/R*gSyn2\n",
    "        else:\n",
    "            g2 = gSyn2\n",
    "        U3[i] = U3[i-1] + dt/Cm*(g1*(delEsyn-U3[i-1])+g2*(delEsyn-U3[i-1])-Gm*U3[i-1])\n",
    "        \n",
    "    return U1,U2,U3"
   ]
  },
  {
   "cell_type": "code",
   "execution_count": 4,
   "id": "laden-certification",
   "metadata": {},
   "outputs": [
    {
     "data": {
      "application/vnd.jupyter.widget-view+json": {
       "model_id": "55cadd2316234ff6bb5bf01700b7a9e7",
       "version_major": 2,
       "version_minor": 0
      },
      "text/plain": [
       "interactive(children=(FloatSlider(value=5.0, description='Iapp1', max=20.0), FloatSlider(value=5.0, descriptio…"
      ]
     },
     "metadata": {},
     "output_type": "display_data"
    },
    {
     "data": {
      "text/plain": [
       "<function __main__.interactAdd(Iapp1=5.0, Iapp2=5.0, k1=1.0, k2=1.0, Esyn=0)>"
      ]
     },
     "execution_count": 4,
     "metadata": {},
     "output_type": "execute_result"
    }
   ],
   "source": [
    "def interactAdd(Iapp1=5.0,Iapp2=5.0,k1=1.0,k2=1.0,Esyn=0):\n",
    "    U1,U2,U3 = addition(Iapp1,Iapp2,k1,k2,Esyn=Esyn,log=True)\n",
    "    \n",
    "    plt.figure(figsize=(30,10))\n",
    "    plt.axhline(y=(k1*Iapp1+k2*Iapp2),color='k',linestyle=':',label='Goal',linewidth=5)\n",
    "    plt.plot(t,U1,linewidth=10,label='$U_1$')\n",
    "    plt.plot(t,U2,linewidth=10,label='$U_2$')\n",
    "    plt.plot(t,U3,linewidth=10,label='$U_3$')\n",
    "    plt.legend()\n",
    "    plt.xlabel('Time (ms)')\n",
    "    plt.ylabel('Potential (mV)')\n",
    "    plt.title('Response')\n",
    "    \n",
    "interact_manual(interactAdd,Iapp1=(0.0,R),Iapp2=(0.0,R),k1=(0.1,2.0),k2=(0.1,2.0),Esyn=(0.0,100))"
   ]
  },
  {
   "cell_type": "markdown",
   "id": "comparative-seventh",
   "metadata": {},
   "source": [
    "# Takeaway: $U_3$ approximates $\\sum k_i\\cdot U_i$, and this approximation gets better as $\\Delta E_{syn}$ gets larger"
   ]
  },
  {
   "cell_type": "code",
   "execution_count": 5,
   "id": "dried-retailer",
   "metadata": {},
   "outputs": [
    {
     "data": {
      "application/vnd.jupyter.widget-view+json": {
       "model_id": "fe8a56c926ec43bb9abac3f02d17c3d3",
       "version_major": 2,
       "version_minor": 0
      },
      "text/plain": [
       "interactive(children=(FloatSlider(value=0.5, description='k', max=2.0), FloatSlider(value=0.0, description='Es…"
      ]
     },
     "metadata": {},
     "output_type": "display_data"
    },
    {
     "data": {
      "text/plain": [
       "<function __main__.interactAdd2D(k=0.5, Esyn=0)>"
      ]
     },
     "execution_count": 5,
     "metadata": {},
     "output_type": "execute_result"
    }
   ],
   "source": [
    "def interactAdd2D(k=0.5,Esyn=0):\n",
    "    Iapp2 = R\n",
    "    Iapp1 = np.linspace(0.0,R)\n",
    "    U3str = np.zeros(np.size(Iapp1))\n",
    "    k1 = k\n",
    "    k2 = k\n",
    "    for i in range(np.size(Iapp1)):\n",
    "        _,_,U3 = addition(Iapp1[i],Iapp2,k1,k2,Esyn=Esyn,log=False)\n",
    "        U3str[i] = U3[-1]\n",
    "\n",
    "    plt.figure(figsize=(30,10))\n",
    "    plt.subplot(1,2,1)\n",
    "    plt.plot(Iapp1,U3str,linewidth=10,label='$U_3^*$')\n",
    "    plt.plot(Iapp1,k1*Iapp1+k2*Iapp2,linewidth=10,linestyle=':',label='Goal')\n",
    "    plt.xlabel('$I_{app,1}$')\n",
    "    plt.ylabel('$U_3^*$')\n",
    "    plt.title('Response')\n",
    "    plt.legend()\n",
    "    \n",
    "    plt.subplot(1,2,2)\n",
    "    plt.plot(Iapp1,U3str-(k1*Iapp1+k2*Iapp2),linewidth=10,label='$U_3^*$')\n",
    "    plt.xlabel('$I_{app,1}$')\n",
    "    plt.ylabel('Error')\n",
    "    plt.title('Error as a function of $I_{app,1}$')\n",
    "\n",
    "interact_manual(interactAdd2D,k=(0.0,2.0),Esyn=(0.0,100))"
   ]
  },
  {
   "cell_type": "markdown",
   "id": "macro-malpractice",
   "metadata": {},
   "source": [
    "# Takeaway: As the desired sum increases, the behavior of an addition network diverges from the linear goal. The error decreases as $\\Delta E_{syn}$ increases"
   ]
  },
  {
   "cell_type": "code",
   "execution_count": null,
   "id": "fixed-pavilion",
   "metadata": {},
   "outputs": [],
   "source": []
  }
 ],
 "metadata": {
  "kernelspec": {
   "display_name": "Python 3",
   "language": "python",
   "name": "python3"
  },
  "language_info": {
   "codemirror_mode": {
    "name": "ipython",
    "version": 3
   },
   "file_extension": ".py",
   "mimetype": "text/x-python",
   "name": "python",
   "nbconvert_exporter": "python",
   "pygments_lexer": "ipython3",
   "version": "3.8.5"
  }
 },
 "nbformat": 4,
 "nbformat_minor": 5
}
