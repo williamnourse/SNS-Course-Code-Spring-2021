{
 "cells": [
  {
   "cell_type": "code",
   "execution_count": 1,
   "id": "dietary-salon",
   "metadata": {},
   "outputs": [],
   "source": [
    "# William Nourse\n",
    "# February 8th, 2021\n",
    "\n",
    "import numpy as np\n",
    "import matplotlib\n",
    "import matplotlib.pyplot as plt\n",
    "from ipywidgets import interact_manual\n",
    "#%matplotlib widget"
   ]
  },
  {
   "cell_type": "code",
   "execution_count": 2,
   "id": "proprietary-entrance",
   "metadata": {},
   "outputs": [],
   "source": [
    "# Variables\n",
    "Cm = 10 # nF\n",
    "Gm = 1 # uS\n",
    "Er = -60 # mV\n",
    "R = 20 # mV\n",
    "\n",
    "dt = 0.01 # ms\n",
    "tmax = 100 # ms\n",
    "\n",
    "t = np.arange(0,tmax,dt)\n",
    "numSteps = np.size(t)"
   ]
  },
  {
   "cell_type": "code",
   "execution_count": 3,
   "id": "russian-bouquet",
   "metadata": {},
   "outputs": [
    {
     "data": {
      "application/vnd.jupyter.widget-view+json": {
       "model_id": "a7eaa1c1b5c14ce78cc2b6c7838e0f88",
       "version_major": 2,
       "version_minor": 0
      },
      "text/plain": [
       "interactive(children=(FloatSlider(value=1.0, description='k', max=2.0), FloatSlider(value=20.0, description='I…"
      ]
     },
     "metadata": {},
     "output_type": "display_data"
    },
    {
     "data": {
      "text/plain": [
       "<function __main__.transmit(k=1.0, Iapp=20, Esyn=0)>"
      ]
     },
     "execution_count": 3,
     "metadata": {},
     "output_type": "execute_result"
    }
   ],
   "source": [
    "# Transmission Synapse\n",
    "\n",
    "def transmit(k=1.0,Iapp=R,Esyn=0):\n",
    "    delEsyn = Esyn - Er\n",
    "    gsyn = k*R/(delEsyn - k*R)\n",
    "    \n",
    "    U1 = np.zeros(numSteps)\n",
    "    U2 = np.zeros(numSteps)\n",
    "    \n",
    "    for i in range(1,numSteps):\n",
    "        U1[i] = U1[i-1] + dt/Cm*(Iapp - Gm*U1[i-1])\n",
    "        g = U1[i-1]/R*gsyn\n",
    "        U2[i] = U2[i-1] + dt/Cm*(g*(delEsyn-U2[i-1])-Gm*U2[i-1])\n",
    "    \n",
    "    plt.figure(figsize=(30,15))\n",
    "    \n",
    "    plt.subplot(1,2,1)\n",
    "    plt.axhline(y=Iapp,linestyle=':',color='k',linewidth=5,label='$I_{app}$')\n",
    "    plt.plot(t,U1,label=\"$U_1$\",linewidth=10)\n",
    "    plt.plot(t,U2,label=\"$U_2$\",linewidth=10)\n",
    "    plt.legend()\n",
    "    plt.title('Response')\n",
    "    plt.xlabel('t (ms)')\n",
    "    plt.ylabel('Potential (mV)')\n",
    "    \n",
    "    U1str = np.linspace(0.0,R,num=101)\n",
    "    U2str = gsyn*U1str/R*delEsyn/(1+gsyn*U1str/R)\n",
    "    plt.subplot(1,2,2)\n",
    "    plt.plot(U1str,U2str,label='$U_2^*$',linewidth=10)\n",
    "    plt.plot(U1str,k*U1str,linestyle=':',color='k',linewidth=5,label='$k\\cdot U_1^*$')\n",
    "    plt.legend()\n",
    "    plt.xlabel('$U_1^*$')\n",
    "    plt.title('Difference')\n",
    "    \n",
    "interact_manual(transmit,k=(0.0,2.0),Iapp=(0.0,R),Esyn=(0.0,100))"
   ]
  },
  {
   "cell_type": "code",
   "execution_count": 4,
   "id": "ready-project",
   "metadata": {},
   "outputs": [
    {
     "data": {
      "application/vnd.jupyter.widget-view+json": {
       "model_id": "b251c0d638634386ad28cf1d75df1157",
       "version_major": 2,
       "version_minor": 0
      },
      "text/plain": [
       "interactive(children=(FloatSlider(value=0.2, description='c', max=1.0), FloatSlider(value=20.0, description='I…"
      ]
     },
     "metadata": {},
     "output_type": "display_data"
    },
    {
     "data": {
      "text/plain": [
       "<function __main__.modulate(c=0.2, I1=20, I2=20)>"
      ]
     },
     "execution_count": 4,
     "metadata": {},
     "output_type": "execute_result"
    }
   ],
   "source": [
    "# Modulation\n",
    "\n",
    "def modulate(c=0.2,I1=R,I2=R):\n",
    "    #I2 = R\n",
    "    Esyn = Er\n",
    "    delEsyn = Esyn-Er\n",
    "    gSyn = 1/c-1\n",
    "    \n",
    "    U1 = np.zeros(numSteps)\n",
    "    U2 = np.zeros(numSteps)\n",
    "    \n",
    "    for i in range(1,numSteps):\n",
    "        U1[i] = U1[i-1] + dt/Cm*(I1 - Gm*U1[i-1])\n",
    "        g = U1[i-1]/R*gSyn\n",
    "        U2[i] = U2[i-1] + dt/Cm*(I2 + g*(delEsyn - U2[i-1]) - Gm*U2[i-1])\n",
    "        \n",
    "    plt.figure(figsize=(30,15))\n",
    "    plt.subplot(1,2,1)\n",
    "    plt.axhline(y=I1,linestyle=':',linewidth=5,label='$I_1$')\n",
    "    plt.axhline(y=I2,linestyle=':',color='k',linewidth=5,label='$I_2$')\n",
    "    plt.plot(t,U1,label=\"$U_1$\",linewidth=10)\n",
    "    plt.plot(t,U2,label=\"$U_2$\",linewidth=10)\n",
    "    plt.axhline(y=c*I2,linestyle=':',color='green',linewidth=5,label='$c\\cdot I_2$')\n",
    "    plt.legend()\n",
    "    plt.title('Response')\n",
    "    plt.xlabel('t (ms)')\n",
    "    plt.ylabel('Potential (mV)')\n",
    "    \n",
    "    U1str = np.linspace(0.0,R,num=101)\n",
    "    U2str = I2/(Gm + gSyn/R*U1str)\n",
    "    plt.subplot(1,2,2)\n",
    "    plt.plot(U1str,U2str,label='$U_2^*$',linewidth=10)\n",
    "    plt.plot(U1str,c*I2+np.zeros(np.size(U1str)),linestyle=':',color='k',linewidth=5,label='$c\\cdot I_2$')\n",
    "    plt.legend()\n",
    "    plt.xlabel('$U_1^*$')\n",
    "    #plt.title('Difference')\n",
    "    \n",
    "interact_manual(modulate,c=(0.0,1.0),I1=(0.0,R),I2=(0.0,R))"
   ]
  },
  {
   "cell_type": "code",
   "execution_count": null,
   "id": "continuous-selling",
   "metadata": {},
   "outputs": [],
   "source": []
  }
 ],
 "metadata": {
  "kernelspec": {
   "display_name": "Python 3",
   "language": "python",
   "name": "python3"
  },
  "language_info": {
   "codemirror_mode": {
    "name": "ipython",
    "version": 3
   },
   "file_extension": ".py",
   "mimetype": "text/x-python",
   "name": "python",
   "nbconvert_exporter": "python",
   "pygments_lexer": "ipython3",
   "version": "3.8.5"
  }
 },
 "nbformat": 4,
 "nbformat_minor": 5
}
