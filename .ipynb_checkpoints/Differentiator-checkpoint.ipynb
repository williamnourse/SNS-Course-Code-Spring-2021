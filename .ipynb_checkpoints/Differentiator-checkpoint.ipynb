{
 "cells": [
  {
   "cell_type": "code",
   "execution_count": 1,
   "id": "placed-spare",
   "metadata": {},
   "outputs": [
    {
     "data": {
      "application/vnd.jupyter.widget-view+json": {
       "model_id": "d18a3a8e4fb8414fa61fd87e99aa22da",
       "version_major": 2,
       "version_minor": 0
      },
      "text/plain": [
       "Canvas(toolbar=Toolbar(toolitems=[('Home', 'Reset original view', 'home', 'home'), ('Back', 'Back to previous …"
      ]
     },
     "metadata": {},
     "output_type": "display_data"
    },
    {
     "data": {
      "text/plain": [
       "Text(0, 0.5, 'Derivative Approximation')"
      ]
     },
     "execution_count": 1,
     "metadata": {},
     "output_type": "execute_result"
    }
   ],
   "source": [
    "# William Nourse\n",
    "# Feb 16 2021\n",
    "\n",
    "import numpy as np\n",
    "import matplotlib\n",
    "import matplotlib.pyplot as plt\n",
    "from ipywidgets import interact_manual\n",
    "%matplotlib widget\n",
    "\n",
    "Gm = 1 # uS\n",
    "Er = -60 # mV\n",
    "dt = 1 # ms\n",
    "tMax = 1000 # ms\n",
    "R = 20 # mV\n",
    "\n",
    "t = np.arange(0,tMax,dt)\n",
    "numSteps = np.size(t)\n",
    "\n",
    "Cfast = 5 #nF\n",
    "Cslow = 55 #nF\n",
    "\n",
    "b=10e-3\n",
    "c=10\n",
    "Iapp = b*t\n",
    "#Iapp = b*t +(t>tMax/2)*(b*(t-tMax/2))\n",
    "#Iapp = b*t -(t>tMax/2)*(b*(t-tMax/2))\n",
    "#Iapp = c*(t>tMax/2)\n",
    "\n",
    "tauFast = Cfast/Gm\n",
    "tauSlow = Cslow/Gm\n",
    "\n",
    "U1 = np.zeros(numSteps)\n",
    "U2 = np.zeros(numSteps)\n",
    "U3 = np.zeros(numSteps)\n",
    "\n",
    "# Assemble subtraction network\n",
    "Eex = 100\n",
    "Ein = -100\n",
    "k = 1\n",
    "delEex = Eex - Er\n",
    "delEin = Ein - Er\n",
    "gEx = k*R/(delEex - k*R)\n",
    "gIn = -gEx*delEex/delEin\n",
    "\n",
    "# Simulate\n",
    "for i in range(1,numSteps):\n",
    "    U1[i] = U1[i-1] + dt/Cfast*(Iapp[i-1]-Gm*U1[i-1])\n",
    "    U2[i] = U2[i-1] + dt/Cslow*(Iapp[i-1]-Gm*U2[i-1])\n",
    "    U3[i] = U3[i-1] + dt/Cfast*(min(max(U1[i-1]/R,0),1)*gEx*(delEex-U3[i-1]) + min(max(U2[i-1]/R,0),1)*gIn*(delEin-U3[i-1]) - Gm*U3[i-1])\n",
    "\n",
    "plt.figure(figsize=(30,15))\n",
    "plt.subplot(4,1,1)\n",
    "plt.plot(t,Iapp,linewidth=10)\n",
    "plt.xlabel('Time (ms)')\n",
    "plt.ylabel('Applied Current (nA)')\n",
    "\n",
    "plt.subplot(4,1,2)\n",
    "plt.plot(t,U1,linewidth=5,color='C1',label='$U_{fast}$')\n",
    "plt.plot(t,U2,linewidth=5,color='C2',label='$U_{slow}$')\n",
    "plt.plot(t,Iapp,color='k',label='$I_{app}$')\n",
    "plt.xlabel('Time (ms)')\n",
    "plt.ylabel('$U_{fast}$ and $U_{slow}$ (mV)')\n",
    "plt.legend()\n",
    "\n",
    "plt.subplot(4,1,3)\n",
    "plt.axhline(y=b*(tauSlow-tauFast),color='k')\n",
    "plt.plot(t,U1-U2,linewidth=10,color='m')\n",
    "plt.xlabel('Time (ms)')\n",
    "plt.ylabel('$U_{fast}-U_{slow}$ (mV)')\n",
    "\n",
    "plt.subplot(4,1,4)\n",
    "plt.axhline(y=b*(tauSlow-tauFast),color='k')\n",
    "plt.plot(t,U3,linewidth=10,color='r')\n",
    "plt.xlabel('Time (ms)')\n",
    "plt.ylabel('Derivative Approximation')"
   ]
  },
  {
   "cell_type": "markdown",
   "id": "beautiful-politics",
   "metadata": {},
   "source": [
    "# Takeaway: The 'Fast' and 'Slow' neurons act as time-delayed versions of the input, and the output approximates their difference. However the result isn't perfect, because as the inputs get bigger the synaptic conductances reduce sensitivity to new inputs"
   ]
  },
  {
   "cell_type": "code",
   "execution_count": null,
   "id": "settled-parker",
   "metadata": {},
   "outputs": [],
   "source": []
  }
 ],
 "metadata": {
  "kernelspec": {
   "display_name": "Python 3",
   "language": "python",
   "name": "python3"
  },
  "language_info": {
   "codemirror_mode": {
    "name": "ipython",
    "version": 3
   },
   "file_extension": ".py",
   "mimetype": "text/x-python",
   "name": "python",
   "nbconvert_exporter": "python",
   "pygments_lexer": "ipython3",
   "version": "3.8.5"
  }
 },
 "nbformat": 4,
 "nbformat_minor": 5
}
