{
 "cells": [
  {
   "cell_type": "code",
   "execution_count": 1,
   "id": "aquatic-battery",
   "metadata": {},
   "outputs": [],
   "source": [
    "# William Nourse\n",
    "# Jan 28 2021\n",
    "\n",
    "import numpy as np\n",
    "import matplotlib\n",
    "import matplotlib.pyplot as plt\n",
    "from ipywidgets import interact_manual\n",
    "%matplotlib widget"
   ]
  },
  {
   "cell_type": "code",
   "execution_count": 2,
   "id": "adequate-pregnancy",
   "metadata": {},
   "outputs": [
    {
     "name": "stdout",
     "output_type": "stream",
     "text": [
      "10000 Steps\n"
     ]
    }
   ],
   "source": [
    "# Variables\n",
    "Cm = 10 # nF\n",
    "Gm = 1 # uS\n",
    "Iapp = 20 # nA\n",
    "Er = -60 # mV\n",
    "R = 20 # mV\n",
    "gMax = 0.5 # uS\n",
    "Esyn = 0 # mV\n",
    "\n",
    "dt = 0.01 # ms\n",
    "tmax = 100 # ms\n",
    "\n",
    "t = np.arange(0,tmax,dt)\n",
    "numSteps = np.size(t)\n",
    "print(numSteps,\"Steps\")"
   ]
  },
  {
   "cell_type": "code",
   "execution_count": 5,
   "id": "spare-hamburg",
   "metadata": {},
   "outputs": [
    {
     "data": {
      "application/vnd.jupyter.widget-view+json": {
       "model_id": "e60260e587de49faa0e4ce654e0f47fc",
       "version_major": 2,
       "version_minor": 0
      },
      "text/plain": [
       "Canvas(toolbar=Toolbar(toolitems=[('Home', 'Reset original view', 'home', 'home'), ('Back', 'Back to previous …"
      ]
     },
     "metadata": {},
     "output_type": "display_data"
    },
    {
     "data": {
      "text/plain": [
       "Text(0.5, 1.0, '2 Neurons')"
      ]
     },
     "execution_count": 5,
     "metadata": {},
     "output_type": "execute_result"
    }
   ],
   "source": [
    "# Compute U1(t) and U2(t) with simulation\n",
    "U1sim = np.zeros(np.size(t))\n",
    "U2sim = np.zeros(np.size(t))\n",
    "\n",
    "delEsyn = Esyn - Er # mV\n",
    "\n",
    "for i in range(1,numSteps):\n",
    "    U1sim[i] = U1sim[i-1] + dt/Cm*(Iapp - Gm*U1sim[i-1])\n",
    "    gSyn = U1sim[i-1]/R*gMax\n",
    "    U2sim[i] = U2sim[i-1] + dt/Cm*(gSyn*(delEsyn - U2sim[i-1]) - Gm*U2sim[i-1])\n",
    "    \n",
    "# Plot\n",
    "plt.figure(figsize=(15,15))\n",
    "plt.axhline(y=Iapp,linestyle=':',color='k',linewidth=5)\n",
    "plt.plot(t,U1sim,label=\"$U_1$\",linewidth=10)\n",
    "plt.plot(t,U2sim,label=\"$U_2$\",linewidth=10)\n",
    "plt.legend()\n",
    "plt.ylabel('Voltage (mV)')\n",
    "plt.xlabel('t (ms)')\n",
    "plt.title('2 Neurons')"
   ]
  },
  {
   "cell_type": "code",
   "execution_count": 6,
   "id": "veterinary-description",
   "metadata": {},
   "outputs": [
    {
     "data": {
      "application/vnd.jupyter.widget-view+json": {
       "model_id": "c0b6a50b4723475fa10fb3595cb41e95",
       "version_major": 2,
       "version_minor": 0
      },
      "text/plain": [
       "interactive(children=(FloatSlider(value=0.0, description='Esyn', min=-100.0), Button(description='Run Interact…"
      ]
     },
     "metadata": {},
     "output_type": "display_data"
    },
    {
     "data": {
      "text/plain": [
       "<function __main__.varyEsyn(Esyn=0.0)>"
      ]
     },
     "execution_count": 6,
     "metadata": {},
     "output_type": "execute_result"
    }
   ],
   "source": [
    "# Compute U1(t) and U2(t) with simulation interactively\n",
    "\n",
    "def varyEsyn(Esyn=0.0):\n",
    "    U1sim = np.zeros(np.size(t))\n",
    "    U2sim = np.zeros(np.size(t))\n",
    "\n",
    "    delEsyn = Esyn - Er # mV\n",
    "\n",
    "    for i in range(1,numSteps):\n",
    "        U1sim[i] = U1sim[i-1] + dt/Cm*(Iapp - Gm*U1sim[i-1])\n",
    "        gSyn = U1sim[i-1]/R*gMax\n",
    "        U2sim[i] = U2sim[i-1] + dt/Cm*(gSyn*(delEsyn - U2sim[i-1]) - Gm*U2sim[i-1])\n",
    "\n",
    "    # Plot\n",
    "    plt.figure(figsize=(15,15))\n",
    "    plt.axhline(y=Iapp,linestyle=':',color='k',linewidth=5)\n",
    "    plt.plot(t,U1sim,label=\"$U_1$\",linewidth=10)\n",
    "    plt.plot(t,U2sim,label=\"$U_2$\",linewidth=10)\n",
    "    plt.legend()\n",
    "    plt.ylabel('Voltage (mV)')\n",
    "    plt.xlabel('t')\n",
    "    plt.title('2 Neuron')\n",
    "    return\n",
    "\n",
    "interact_manual(varyEsyn,Esyn=(-100.0,100.0))"
   ]
  },
  {
   "cell_type": "code",
   "execution_count": null,
   "id": "simple-stomach",
   "metadata": {},
   "outputs": [],
   "source": []
  }
 ],
 "metadata": {
  "kernelspec": {
   "display_name": "Python 3",
   "language": "python",
   "name": "python3"
  },
  "language_info": {
   "codemirror_mode": {
    "name": "ipython",
    "version": 3
   },
   "file_extension": ".py",
   "mimetype": "text/x-python",
   "name": "python",
   "nbconvert_exporter": "python",
   "pygments_lexer": "ipython3",
   "version": "3.8.5"
  }
 },
 "nbformat": 4,
 "nbformat_minor": 5
}
