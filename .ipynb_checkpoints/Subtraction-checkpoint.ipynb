{
 "cells": [
  {
   "cell_type": "code",
   "execution_count": 1,
   "id": "initial-state",
   "metadata": {},
   "outputs": [],
   "source": [
    "# William Nourse\n",
    "# Feb 11 2021\n",
    "\n",
    "import numpy as np\n",
    "import matplotlib\n",
    "import matplotlib.pyplot as plt\n",
    "from ipywidgets import interact_manual\n",
    "%matplotlib widget"
   ]
  },
  {
   "cell_type": "code",
   "execution_count": 2,
   "id": "latter-chemistry",
   "metadata": {},
   "outputs": [],
   "source": [
    "# Parameters\n",
    "Cm = 10 # nF\n",
    "Gm = 1 # uS\n",
    "Er = -60 # mV\n",
    "R = 20.0 # mV\n",
    "\n",
    "dt = 0.01 # ms\n",
    "tmax = 100 # ms\n",
    "t = np.arange(0,tmax,dt)\n",
    "numSteps = np.size(t)"
   ]
  },
  {
   "cell_type": "code",
   "execution_count": 7,
   "id": "treated-samba",
   "metadata": {},
   "outputs": [],
   "source": [
    "def method1(Iapp1,Iapp2,k1,k2,Esyn1=0,Esyn2=-100,log=False):\n",
    "    delEsyn1 = Esyn1-Er\n",
    "    gSyn1 = k1*R/(delEsyn1-k1*R)\n",
    "    delEsyn2 = Esyn2-Er\n",
    "    gSyn2 = k2*R/(delEsyn2-k2*R)\n",
    "    \n",
    "    if log:\n",
    "        print('Method 1: gSyn1 = %.3f, gSyn2 = %.3f'%(gSyn1,gSyn2))\n",
    "    \n",
    "    U1 = np.zeros(numSteps)\n",
    "    U2 = np.zeros(numSteps)\n",
    "    U3 = np.zeros(numSteps)\n",
    "    \n",
    "    for i in range(1,numSteps):\n",
    "        U1[i] = U1[i-1] + dt/Cm*(Iapp1-Gm*U1[i-1])\n",
    "        if U1[i-1]<R and U1[i-1]>0:\n",
    "            g1 = U1[i-1]/R*gSyn1\n",
    "        elif U1[i-1]>=R:\n",
    "            g1 = gSyn1\n",
    "        else:\n",
    "            g1 = 0\n",
    "        U2[i] = U2[i-1] + dt/Cm*(Iapp2-Gm*U2[i-1])\n",
    "        if U2[i-1]<R and U2[i-1]>0:\n",
    "            g2 = U2[i-1]/R*gSyn2\n",
    "        elif U2[i-1]>=R:\n",
    "            g2 = gSyn2\n",
    "        else:\n",
    "            g2 = 0\n",
    "        U3[i] = U3[i-1] + dt/Cm*(g1*(delEsyn1-U3[i-1])+g2*(delEsyn2-U3[i-1])-Gm*U3[i-1])\n",
    "        \n",
    "    return U1,U2,U3"
   ]
  },
  {
   "cell_type": "code",
   "execution_count": 10,
   "id": "thirty-adjustment",
   "metadata": {},
   "outputs": [],
   "source": [
    "def method2(Iapp1,Iapp2,k1,Esyn1=0,Esyn2=-100,log=False):\n",
    "    delEsyn1 = Esyn1-Er\n",
    "    gSyn1 = k1*R/(delEsyn1-k1*R)\n",
    "    delEsyn2 = Esyn2-Er\n",
    "    gSyn2 = -gSyn1*delEsyn1/delEsyn2\n",
    "    \n",
    "    if log:\n",
    "        print('Method 2: gSyn1 = %.3f, gSyn2 = %.3f'%(gSyn1,gSyn2))\n",
    "    \n",
    "    U1 = np.zeros(numSteps)\n",
    "    U2 = np.zeros(numSteps)\n",
    "    U3 = np.zeros(numSteps)\n",
    "    \n",
    "    for i in range(1,numSteps):\n",
    "        U1[i] = U1[i-1] + dt/Cm*(Iapp1-Gm*U1[i-1])\n",
    "        if U1[i-1]<R and U1[i-1]>0:\n",
    "            g1 = U1[i-1]/R*gSyn1\n",
    "        elif U1[i-1]>=R:\n",
    "            g1 = gSyn1\n",
    "        else:\n",
    "            g1 = 0\n",
    "        U2[i] = U2[i-1] + dt/Cm*(Iapp2-Gm*U2[i-1])\n",
    "        if U2[i-1]<R and U2[i-1]>0:\n",
    "            g2 = U2[i-1]/R*gSyn2\n",
    "        elif U2[i-1]>=R:\n",
    "            g2 = gSyn2\n",
    "        else:\n",
    "            g2 = 0\n",
    "        U3[i] = U3[i-1] + dt/Cm*(g1*(delEsyn1-U3[i-1])+g2*(delEsyn2-U3[i-1])-Gm*U3[i-1])\n",
    "        \n",
    "    return U1,U2,U3"
   ]
  },
  {
   "cell_type": "code",
   "execution_count": 13,
   "id": "rational-black",
   "metadata": {},
   "outputs": [
    {
     "data": {
      "application/vnd.jupyter.widget-view+json": {
       "model_id": "dbcbbe23f3564a9e9dc1266b7d842a60",
       "version_major": 2,
       "version_minor": 0
      },
      "text/plain": [
       "interactive(children=(FloatSlider(value=10.0, description='Iapp1', max=20.0), FloatSlider(value=5.0, descripti…"
      ]
     },
     "metadata": {},
     "output_type": "display_data"
    },
    {
     "data": {
      "text/plain": [
       "<function __main__.interactSub(Iapp1=10.0, Iapp2=5.0, k1=1.0, k2=-1.0)>"
      ]
     },
     "execution_count": 13,
     "metadata": {},
     "output_type": "execute_result"
    }
   ],
   "source": [
    "def interactSub(Iapp1=10.0,Iapp2=5.0,k1=1.0,k2=-1.0):\n",
    "    _,_,U31 = method1(Iapp1,Iapp2,k1,k2,log=True)\n",
    "    _,_,U32 = method2(Iapp1,Iapp2,k1,log=True)\n",
    "    \n",
    "    plt.figure(figsize=(30,10))\n",
    "    plt.axhline(y=(k1*Iapp1+k2*Iapp2),linestyle=':',color='k',linewidth=5,label='Goal')\n",
    "    plt.plot(t,U31,linewidth=10,label='Method 1')\n",
    "    plt.plot(t,U32,linewidth=10,label='Method 2')\n",
    "    plt.legend()\n",
    "    plt.xlabel('Time (ms)')\n",
    "    plt.ylabel('Potential (mV)')\n",
    "    plt.title('Response')\n",
    "    \n",
    "interact_manual(interactSub,Iapp1=(0.0,R),Iapp2=(0.0,R))"
   ]
  },
  {
   "cell_type": "markdown",
   "id": "first-eclipse",
   "metadata": {},
   "source": [
    "# Takeaway: Method 2 (directly solving) is a more pure subtraction, because when you perform In1-In2 you get 0 at the output"
   ]
  },
  {
   "cell_type": "code",
   "execution_count": null,
   "id": "chemical-warren",
   "metadata": {},
   "outputs": [],
   "source": []
  }
 ],
 "metadata": {
  "kernelspec": {
   "display_name": "Python 3",
   "language": "python",
   "name": "python3"
  },
  "language_info": {
   "codemirror_mode": {
    "name": "ipython",
    "version": 3
   },
   "file_extension": ".py",
   "mimetype": "text/x-python",
   "name": "python",
   "nbconvert_exporter": "python",
   "pygments_lexer": "ipython3",
   "version": "3.8.5"
  }
 },
 "nbformat": 4,
 "nbformat_minor": 5
}
