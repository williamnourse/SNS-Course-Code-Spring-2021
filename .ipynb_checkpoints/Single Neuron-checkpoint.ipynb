{
 "cells": [
  {
   "cell_type": "code",
   "execution_count": 1,
   "id": "functional-medicaid",
   "metadata": {},
   "outputs": [],
   "source": [
    "# William Nourse\n",
    "# Jan 28 2021\n",
    "\n",
    "import numpy as np\n",
    "import matplotlib\n",
    "import matplotlib.pyplot as plt\n",
    "from ipywidgets import interact_manual\n",
    "%matplotlib widget"
   ]
  },
  {
   "cell_type": "code",
   "execution_count": 2,
   "id": "metric-delivery",
   "metadata": {},
   "outputs": [],
   "source": [
    "# Variables\n"
   ]
  },
  {
   "cell_type": "code",
   "execution_count": 3,
   "id": "polyphonic-laser",
   "metadata": {},
   "outputs": [],
   "source": [
    "# Compute U(t) explicitly\n",
    "\n",
    "\n",
    "# Plot\n"
   ]
  },
  {
   "cell_type": "code",
   "execution_count": 4,
   "id": "single-straight",
   "metadata": {},
   "outputs": [],
   "source": [
    "# Compute V(t) with simulation\n",
    "\n",
    "# Compare with the explicit solution\n"
   ]
  },
  {
   "cell_type": "code",
   "execution_count": 5,
   "id": "logical-gambling",
   "metadata": {},
   "outputs": [],
   "source": [
    "# Simulation Error\n"
   ]
  },
  {
   "cell_type": "code",
   "execution_count": 6,
   "id": "earned-submission",
   "metadata": {
    "jupyter": {
     "source_hidden": true
    }
   },
   "outputs": [],
   "source": [
    "#print(\"Tau: \",tau)\n",
    "\n",
    "def varydt(dt=0.1):\n",
    "    # Compute U(t) explicitly\n",
    "    Uexp = Iapp/Gm*(1-np.exp(-t/tau))\n",
    "\n",
    "    # Compute V(t) with simulation\n",
    "    Usim = np.zeros(np.size(t))\n",
    "\n",
    "    for i in range(1,numsteps):\n",
    "        Usim[i] = Usim[i-1] + dt/Cm*(Iapp-Gm*Usim[i-1])\n",
    "\n",
    "    # Compare with the explicit solution\n",
    "    plt.figure()\n",
    "    plt.subplot(1,2,1)\n",
    "    plt.plot(t,Uexp,label='Explicit')\n",
    "    plt.plot(t,Usim,'--',label='Simulated')\n",
    "    plt.legend()\n",
    "    plt.ylabel('U (mV)')\n",
    "    plt.xlabel('t')\n",
    "    plt.title('U')\n",
    "\n",
    "    # Simulation Error\n",
    "    plt.subplot(1,2,2)\n",
    "    plt.plot(t,Uexp-Usim)\n",
    "    plt.ylabel('$\\Delta V$ (mV)')\n",
    "    plt.xlabel('t')\n",
    "    plt.title('Simulation Error')\n",
    "    \n",
    "    return\n",
    "\n",
    "#interact_manual(varydt,dt=(0.0001,2*tau+1.0))"
   ]
  },
  {
   "cell_type": "code",
   "execution_count": null,
   "id": "cleared-vegetarian",
   "metadata": {},
   "outputs": [],
   "source": []
  }
 ],
 "metadata": {
  "kernelspec": {
   "display_name": "Python 3",
   "language": "python",
   "name": "python3"
  },
  "language_info": {
   "codemirror_mode": {
    "name": "ipython",
    "version": 3
   },
   "file_extension": ".py",
   "mimetype": "text/x-python",
   "name": "python",
   "nbconvert_exporter": "python",
   "pygments_lexer": "ipython3",
   "version": "3.8.5"
  }
 },
 "nbformat": 4,
 "nbformat_minor": 5
}
