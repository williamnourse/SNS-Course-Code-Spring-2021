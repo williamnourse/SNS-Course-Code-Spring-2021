{
 "cells": [
  {
   "cell_type": "code",
   "execution_count": 2,
   "id": "going-removal",
   "metadata": {},
   "outputs": [],
   "source": [
    "# Will Nourse\n",
    "# Feb 5 2021\n",
    "\n",
    "import numpy as np\n",
    "import matplotlib\n",
    "import matplotlib.pyplot as plt\n",
    "from ipywidgets import interact_manual\n",
    "%matplotlib widget"
   ]
  },
  {
   "cell_type": "code",
   "execution_count": 3,
   "id": "logical-designer",
   "metadata": {},
   "outputs": [
    {
     "name": "stdout",
     "output_type": "stream",
     "text": [
      "1000\n"
     ]
    }
   ],
   "source": [
    "# Variables\n",
    "Cm = 10 # nF\n",
    "Gm = 1 # uS\n",
    "Iapp = 10 # nA\n",
    "dt = 0.1 # ms\n",
    "tmax = 100 # ms\n",
    "\n",
    "t = np.arange(0,tmax,dt)\n",
    "numSteps = np.size(t)\n",
    "print(numSteps)"
   ]
  },
  {
   "cell_type": "code",
   "execution_count": 4,
   "id": "stunning-tuner",
   "metadata": {},
   "outputs": [
    {
     "data": {
      "application/vnd.jupyter.widget-view+json": {
       "model_id": "95d662059338439298ae9bb79f4050dd",
       "version_major": 2,
       "version_minor": 0
      },
      "text/plain": [
       "Canvas(toolbar=Toolbar(toolitems=[('Home', 'Reset original view', 'home', 'home'), ('Back', 'Back to previous …"
      ]
     },
     "metadata": {},
     "output_type": "display_data"
    },
    {
     "data": {
      "text/plain": [
       "[<matplotlib.lines.Line2D at 0x7fdd2b6ac760>]"
      ]
     },
     "execution_count": 4,
     "metadata": {},
     "output_type": "execute_result"
    }
   ],
   "source": [
    "# Compute U(t) explicitly\n",
    "tau = Cm/Gm\n",
    "Uexp = Iapp/Gm*(1-np.exp(-t/tau))\n",
    "\n",
    "# Plot\n",
    "plt.figure(figsize=(15,15))\n",
    "plt.axhline(y=Iapp,linestyle=':',color='k',linewidth=5)\n",
    "plt.plot(t,Uexp,label='Explicit',linewidth=10)"
   ]
  },
  {
   "cell_type": "code",
   "execution_count": 5,
   "id": "infrared-representation",
   "metadata": {},
   "outputs": [
    {
     "data": {
      "application/vnd.jupyter.widget-view+json": {
       "model_id": "23ac7872eb474c9d9cb3c874ed9d20b5",
       "version_major": 2,
       "version_minor": 0
      },
      "text/plain": [
       "Canvas(toolbar=Toolbar(toolitems=[('Home', 'Reset original view', 'home', 'home'), ('Back', 'Back to previous …"
      ]
     },
     "metadata": {},
     "output_type": "display_data"
    },
    {
     "data": {
      "text/plain": [
       "Text(0.5, 1.0, 'U')"
      ]
     },
     "execution_count": 5,
     "metadata": {},
     "output_type": "execute_result"
    }
   ],
   "source": [
    "# Compute U(t) with simulation\n",
    "Usim = np.zeros(np.size(t))\n",
    "\n",
    "for i in range(1,numSteps):\n",
    "    Usim[i] = Usim[i-1] + dt/Cm*(Iapp - Gm*Usim[i-1])\n",
    "    \n",
    "# Compare with the explicit solution\n",
    "plt.figure(figsize=(15,15))\n",
    "plt.axhline(y=Iapp,linestyle=':',color='k',linewidth=5)\n",
    "plt.plot(t,Uexp,label='Explicit',linewidth=10)\n",
    "plt.plot(t,Usim,'--',label='Simulated',linewidth=10)\n",
    "plt.legend()\n",
    "plt.ylabel('U (mV)')\n",
    "plt.xlabel('t (ms)')\n",
    "plt.title('U')"
   ]
  },
  {
   "cell_type": "code",
   "execution_count": 6,
   "id": "southwest-distributor",
   "metadata": {},
   "outputs": [
    {
     "data": {
      "application/vnd.jupyter.widget-view+json": {
       "model_id": "cb777be35b0e4e94bf6e445e987e1fc3",
       "version_major": 2,
       "version_minor": 0
      },
      "text/plain": [
       "Canvas(toolbar=Toolbar(toolitems=[('Home', 'Reset original view', 'home', 'home'), ('Back', 'Back to previous …"
      ]
     },
     "metadata": {},
     "output_type": "display_data"
    },
    {
     "data": {
      "text/plain": [
       "Text(0.5, 1.0, 'Simulation Error')"
      ]
     },
     "execution_count": 6,
     "metadata": {},
     "output_type": "execute_result"
    }
   ],
   "source": [
    "# Simulation Error\n",
    "plt.figure(figsize=(15,15))\n",
    "plt.plot(t,Uexp-Usim,linewidth=10)\n",
    "plt.ylabel('$\\Delta V$ (mV)')\n",
    "plt.xlabel('t (ms)')\n",
    "plt.title('Simulation Error')"
   ]
  },
  {
   "cell_type": "code",
   "execution_count": 7,
   "id": "vertical-fitting",
   "metadata": {},
   "outputs": [
    {
     "data": {
      "application/vnd.jupyter.widget-view+json": {
       "model_id": "d348e66dc0264aaaac4e66bc822dab62",
       "version_major": 2,
       "version_minor": 0
      },
      "text/plain": [
       "interactive(children=(FloatSlider(value=0.1, description='dt', max=30.0, min=0.0001), Button(description='Run …"
      ]
     },
     "metadata": {},
     "output_type": "display_data"
    },
    {
     "data": {
      "text/plain": [
       "<function __main__.varydt(dt=0.1)>"
      ]
     },
     "execution_count": 7,
     "metadata": {},
     "output_type": "execute_result"
    }
   ],
   "source": [
    "#print(\"Tau: \",tau)\n",
    "#tau=Cm/Gm\n",
    "def varydt(dt=0.1):\n",
    "    t=np.arange(0,tmax,dt)\n",
    "    numsteps=np.size(t)\n",
    "    current=Iapp+np.zeros(numsteps)\n",
    "    # Compute U(t) explicitly\n",
    "    Uexp = Iapp/Gm*(1-np.exp(-t/tau))\n",
    "\n",
    "    # Compute V(t) with simulation\n",
    "    Usim = np.zeros(np.size(t))\n",
    "\n",
    "    for i in range(1,numsteps):\n",
    "        Usim[i] = Usim[i-1] + dt/Cm*(Iapp-Gm*Usim[i-1])\n",
    "\n",
    "    # Compare with the explicit solution\n",
    "    plt.figure(figsize=(30,15))\n",
    "    plt.subplot(1,2,1)\n",
    "    plt.plot(t,current,':',label='Iapp',color='k',linewidth=5)\n",
    "    plt.plot(t,Uexp,label='Explicit',linewidth=10)\n",
    "    plt.plot(t,Usim,'--',label='Simulated',linewidth=10)\n",
    "    plt.legend()\n",
    "    plt.ylabel('U (mV)')\n",
    "    plt.xlabel('t (ms)')\n",
    "    plt.title('U')\n",
    "\n",
    "    # Simulation Error\n",
    "    plt.subplot(1,2,2)\n",
    "    plt.plot(t,Uexp-Usim,linewidth=10)\n",
    "    plt.ylabel('$\\Delta V$ (mV)')\n",
    "    plt.xlabel('t (ms)')\n",
    "    plt.title('Simulation Error')\n",
    "    \n",
    "    return\n",
    "\n",
    "interact_manual(varydt,dt=(0.0001,3*tau))"
   ]
  },
  {
   "cell_type": "code",
   "execution_count": null,
   "id": "front-mambo",
   "metadata": {
    "jupyter": {
     "source_hidden": true
    }
   },
   "outputs": [],
   "source": []
  }
 ],
 "metadata": {
  "kernelspec": {
   "display_name": "Python 3",
   "language": "python",
   "name": "python3"
  },
  "language_info": {
   "codemirror_mode": {
    "name": "ipython",
    "version": 3
   },
   "file_extension": ".py",
   "mimetype": "text/x-python",
   "name": "python",
   "nbconvert_exporter": "python",
   "pygments_lexer": "ipython3",
   "version": "3.8.5"
  }
 },
 "nbformat": 4,
 "nbformat_minor": 5
}
