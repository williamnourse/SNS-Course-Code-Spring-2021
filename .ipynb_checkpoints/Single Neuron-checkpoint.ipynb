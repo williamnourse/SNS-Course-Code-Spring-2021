{
 "cells": [
  {
   "cell_type": "code",
   "execution_count": 1,
   "id": "portuguese-findings",
   "metadata": {},
   "outputs": [],
   "source": [
    "# Will Nourse\n",
    "# Feb 5 2021\n",
    "\n",
    "import numpy as np\n",
    "import matplotlib\n",
    "import matplotlib.pyplot as plt\n",
    "from ipywidgets import interact_manual\n",
    "%matplotlib widget"
   ]
  },
  {
   "cell_type": "code",
   "execution_count": 7,
   "id": "passing-richardson",
   "metadata": {},
   "outputs": [
    {
     "name": "stdout",
     "output_type": "stream",
     "text": [
      "1000\n"
     ]
    }
   ],
   "source": [
    "# Variables\n"
   ]
  },
  {
   "cell_type": "code",
   "execution_count": 12,
   "id": "polish-routine",
   "metadata": {},
   "outputs": [
    {
     "data": {
      "application/vnd.jupyter.widget-view+json": {
       "model_id": "fe79afcc0315480d9c68c8d3c4e6d507",
       "version_major": 2,
       "version_minor": 0
      },
      "text/plain": [
       "Canvas(toolbar=Toolbar(toolitems=[('Home', 'Reset original view', 'home', 'home'), ('Back', 'Back to previous …"
      ]
     },
     "metadata": {},
     "output_type": "display_data"
    },
    {
     "data": {
      "text/plain": [
       "Text(0.5, 1.0, 'U')"
      ]
     },
     "execution_count": 12,
     "metadata": {},
     "output_type": "execute_result"
    }
   ],
   "source": [
    "# Compute U(t) explicitly\n",
    "\n",
    "\n",
    "# Plot\n"
   ]
  },
  {
   "cell_type": "code",
   "execution_count": 13,
   "id": "painted-associate",
   "metadata": {
    "jupyter": {
     "source_hidden": true
    }
   },
   "outputs": [
    {
     "data": {
      "application/vnd.jupyter.widget-view+json": {
       "model_id": "b131a8ed7a3c4a7fbb26510132c56b57",
       "version_major": 2,
       "version_minor": 0
      },
      "text/plain": [
       "Canvas(toolbar=Toolbar(toolitems=[('Home', 'Reset original view', 'home', 'home'), ('Back', 'Back to previous …"
      ]
     },
     "metadata": {},
     "output_type": "display_data"
    },
    {
     "data": {
      "text/plain": [
       "Text(0.5, 1.0, 'U')"
      ]
     },
     "execution_count": 13,
     "metadata": {},
     "output_type": "execute_result"
    }
   ],
   "source": [
    "# Compute U(t) with simulation\n",
    "\n",
    "    \n",
    "# Compare with the explicit solution\n",
    "plt.figure(figsize=(15,15))\n",
    "plt.axhline(y=Iapp,linestyle=':',color='k',linewidth=5)\n",
    "plt.plot(t,Uexp,label='Explicit',linewidth=10)\n",
    "plt.plot(t,Usim,'--',label='Simulated',linewidth=10)\n",
    "plt.legend()\n",
    "plt.ylabel('U (mV)')\n",
    "plt.xlabel('t (ms)')\n",
    "plt.title('U')"
   ]
  },
  {
   "cell_type": "code",
   "execution_count": 14,
   "id": "otherwise-above",
   "metadata": {
    "jupyter": {
     "source_hidden": true
    }
   },
   "outputs": [
    {
     "data": {
      "application/vnd.jupyter.widget-view+json": {
       "model_id": "f916d67d947c475b83133c121675e9fd",
       "version_major": 2,
       "version_minor": 0
      },
      "text/plain": [
       "Canvas(toolbar=Toolbar(toolitems=[('Home', 'Reset original view', 'home', 'home'), ('Back', 'Back to previous …"
      ]
     },
     "metadata": {},
     "output_type": "display_data"
    },
    {
     "data": {
      "text/plain": [
       "Text(0.5, 1.0, 'Simulation Error')"
      ]
     },
     "execution_count": 14,
     "metadata": {},
     "output_type": "execute_result"
    }
   ],
   "source": [
    "# Simulation Error\n",
    "plt.figure(figsize=(15,15))\n",
    "plt.plot(t,Uexp-Usim,linewidth=10)\n",
    "plt.ylabel('$\\Delta V$ (mV)')\n",
    "plt.xlabel('t (ms)')\n",
    "plt.title('Simulation Error')"
   ]
  },
  {
   "cell_type": "code",
   "execution_count": 15,
   "id": "hydraulic-alexander",
   "metadata": {
    "jupyter": {
     "source_hidden": true
    }
   },
   "outputs": [
    {
     "data": {
      "application/vnd.jupyter.widget-view+json": {
       "model_id": "0ab8f7d2b4ff41869d56365bed7efebd",
       "version_major": 2,
       "version_minor": 0
      },
      "text/plain": [
       "interactive(children=(FloatSlider(value=0.1, description='dt', max=30.0, min=0.0001), Button(description='Run …"
      ]
     },
     "metadata": {},
     "output_type": "display_data"
    },
    {
     "data": {
      "text/plain": [
       "<function __main__.varydt(dt=0.1)>"
      ]
     },
     "execution_count": 15,
     "metadata": {},
     "output_type": "execute_result"
    }
   ],
   "source": [
    "#print(\"Tau: \",tau)\n",
    "#tau=Cm/Gm\n",
    "def varydt(dt=0.1):\n",
    "    t=np.arange(0,tmax,dt)\n",
    "    numsteps=np.size(t)\n",
    "    current=Iapp+np.zeros(numsteps)\n",
    "    # Compute U(t) explicitly\n",
    "    Uexp = Iapp/Gm*(1-np.exp(-t/tau))\n",
    "\n",
    "    # Compute V(t) with simulation\n",
    "    Usim = np.zeros(np.size(t))\n",
    "\n",
    "    for i in range(1,numsteps):\n",
    "        Usim[i] = Usim[i-1] + dt/Cm*(Iapp-Gm*Usim[i-1])\n",
    "\n",
    "    # Compare with the explicit solution\n",
    "    plt.figure(figsize=(30,15))\n",
    "    plt.subplot(1,2,1)\n",
    "    plt.plot(t,current,':',label='Iapp',color='k',linewidth=5)\n",
    "    plt.plot(t,Uexp,label='Explicit',linewidth=10)\n",
    "    plt.plot(t,Usim,'--',label='Simulated',linewidth=10)\n",
    "    plt.legend()\n",
    "    plt.ylabel('U (mV)')\n",
    "    plt.xlabel('t (ms)')\n",
    "    plt.title('U')\n",
    "\n",
    "    # Simulation Error\n",
    "    plt.subplot(1,2,2)\n",
    "    plt.plot(t,Uexp-Usim,linewidth=10)\n",
    "    plt.ylabel('$\\Delta V$ (mV)')\n",
    "    plt.xlabel('t (ms)')\n",
    "    plt.title('Simulation Error')\n",
    "    \n",
    "    return\n",
    "\n",
    "interact_manual(varydt,dt=(0.0001,3*tau))"
   ]
  },
  {
   "cell_type": "code",
   "execution_count": null,
   "id": "structured-commission",
   "metadata": {
    "jupyter": {
     "source_hidden": true
    }
   },
   "outputs": [],
   "source": []
  }
 ],
 "metadata": {
  "kernelspec": {
   "display_name": "Python 3",
   "language": "python",
   "name": "python3"
  },
  "language_info": {
   "codemirror_mode": {
    "name": "ipython",
    "version": 3
   },
   "file_extension": ".py",
   "mimetype": "text/x-python",
   "name": "python",
   "nbconvert_exporter": "python",
   "pygments_lexer": "ipython3",
   "version": "3.8.5"
  }
 },
 "nbformat": 4,
 "nbformat_minor": 5
}
