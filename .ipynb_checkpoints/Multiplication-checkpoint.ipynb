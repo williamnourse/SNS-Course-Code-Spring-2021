{
 "cells": [
  {
   "cell_type": "code",
   "execution_count": 1,
   "id": "hawaiian-testing",
   "metadata": {},
   "outputs": [],
   "source": [
    "# William Nourse\n",
    "# Feb 11 2021\n",
    "\n",
    "import numpy as np\n",
    "import matplotlib\n",
    "import matplotlib.pyplot as plt\n",
    "from ipywidgets import interact_manual\n",
    "%matplotlib widget"
   ]
  },
  {
   "cell_type": "code",
   "execution_count": 3,
   "id": "resident-madonna",
   "metadata": {},
   "outputs": [
    {
     "name": "stdout",
     "output_type": "stream",
     "text": [
      "10000\n"
     ]
    }
   ],
   "source": [
    "# Parameters\n",
    "Cm = 5 # nF\n",
    "Gm = 1 # uS\n",
    "Er = -60 # mV\n",
    "R = 20.0 # mV\n",
    "\n",
    "dt = 0.01 # ms\n",
    "tmax = 100 # ms\n",
    "t = np.arange(0,tmax,dt)\n",
    "numSteps = np.size(t)\n",
    "print(numSteps)"
   ]
  },
  {
   "cell_type": "code",
   "execution_count": 9,
   "id": "pretty-league",
   "metadata": {},
   "outputs": [],
   "source": [
    "def mult(Isignal,Iapp1=0,Iapp2=R,log=False):    \n",
    "    Esyn = Er-1\n",
    "    delEsyn = Esyn-Er\n",
    "    gSyn = -R/delEsyn\n",
    "    if log:\n",
    "        print('gSyn = %.3f'%(gSyn))\n",
    "    \n",
    "    U1 = np.zeros(numSteps)\n",
    "    U2 = np.zeros(numSteps)\n",
    "    U3 = np.zeros(numSteps)\n",
    "    \n",
    "    for i in range(1,numSteps):\n",
    "        U1[i] = U1[i-1] + dt/Cm*(Iapp1-Gm*U1[i-1])\n",
    "        g1 = min(max(U1[i-1]/R,0),1)*gSyn\n",
    "        U2[i] = U2[i-1] + dt/Cm*(Iapp2+g1*(delEsyn-U2[i-1])-Gm*U2[i-1])\n",
    "        g2 = min(max(U2[i-1]/R,0),1)*gSyn\n",
    "        U3[i] = U3[i-1] + dt/Cm*(Isignal[i-1]+g2*(delEsyn-U3[i-1])-Gm*U3[i-1])\n",
    "        \n",
    "    return U1,U2,U3"
   ]
  },
  {
   "cell_type": "code",
   "execution_count": 13,
   "id": "prescribed-group",
   "metadata": {},
   "outputs": [
    {
     "data": {
      "application/vnd.jupyter.widget-view+json": {
       "model_id": "a24e63cfc4e54d9590f9e02c9b0d003a",
       "version_major": 2,
       "version_minor": 0
      },
      "text/plain": [
       "interactive(children=(FloatSlider(value=0.0, description='Iapp1', max=20.0), Button(description='Run Interact'…"
      ]
     },
     "metadata": {},
     "output_type": "display_data"
    },
    {
     "data": {
      "text/plain": [
       "<function __main__.interactMult(Iapp1=0)>"
      ]
     },
     "execution_count": 13,
     "metadata": {},
     "output_type": "execute_result"
    }
   ],
   "source": [
    "Isignal = 10+10*np.sin(2*np.pi*0.02*t)\n",
    "\n",
    "def interactMult(Iapp1=0):\n",
    "    _,_,U3 = mult(Isignal,Iapp1,log=True)\n",
    "    \n",
    "    plt.figure(figsize=(30,10))\n",
    "    plt.plot(t,Isignal,linestyle=':',linewidth=5,color='k',label='$I_{signal}$')\n",
    "    plt.plot(t,U3,linewidth=10,label='$U_3$')\n",
    "    plt.title('Multiplication Response')\n",
    "    plt.xlabel('Time (ms)')\n",
    "    plt.ylabel('Potential (mV)')\n",
    "    plt.legend()\n",
    "    \n",
    "interact_manual(interactMult,Iapp1=(0.0,R))"
   ]
  },
  {
   "cell_type": "markdown",
   "id": "sapphire-charge",
   "metadata": {},
   "source": [
    "# Takeaway: While more complicated than a division network, a multiplication network gives us \"scaling\" control with a more linear response"
   ]
  },
  {
   "cell_type": "code",
   "execution_count": null,
   "id": "helpful-tours",
   "metadata": {},
   "outputs": [],
   "source": []
  }
 ],
 "metadata": {
  "kernelspec": {
   "display_name": "Python 3",
   "language": "python",
   "name": "python3"
  },
  "language_info": {
   "codemirror_mode": {
    "name": "ipython",
    "version": 3
   },
   "file_extension": ".py",
   "mimetype": "text/x-python",
   "name": "python",
   "nbconvert_exporter": "python",
   "pygments_lexer": "ipython3",
   "version": "3.8.5"
  }
 },
 "nbformat": 4,
 "nbformat_minor": 5
}
