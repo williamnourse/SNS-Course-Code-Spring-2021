{
 "cells": [
  {
   "cell_type": "code",
   "execution_count": 1,
   "id": "virtual-tucson",
   "metadata": {},
   "outputs": [],
   "source": [
    "# William Nourse\n",
    "# Feb 15 2021\n",
    "\n",
    "import numpy as np\n",
    "import matplotlib\n",
    "import matplotlib.pyplot as plt\n",
    "import matplotlib.animation as animation\n",
    "from matplotlib import rc\n",
    "from ipywidgets import interact_manual\n",
    "%matplotlib widget"
   ]
  },
  {
   "cell_type": "code",
   "execution_count": 2,
   "id": "military-specific",
   "metadata": {},
   "outputs": [],
   "source": [
    "Cm = 50 # nF\n",
    "Gm = 1 # uS\n",
    "Er = -60 # mV\n",
    "R = 20 # mV\n",
    "\n",
    "# Design the synapse\n",
    "Einh = -65\n",
    "delE = Einh-Er\n",
    "g=-R/delE"
   ]
  },
  {
   "cell_type": "code",
   "execution_count": 3,
   "id": "excited-occasion",
   "metadata": {},
   "outputs": [
    {
     "data": {
      "application/vnd.jupyter.widget-view+json": {
       "model_id": "615167660e254881997fe3e27a1d4ace",
       "version_major": 2,
       "version_minor": 0
      },
      "text/plain": [
       "Canvas(toolbar=Toolbar(toolitems=[('Home', 'Reset original view', 'home', 'home'), ('Back', 'Back to previous …"
      ]
     },
     "metadata": {},
     "output_type": "display_data"
    },
    {
     "data": {
      "text/plain": [
       "<matplotlib.legend.Legend at 0x7fb10bc4edf0>"
      ]
     },
     "execution_count": 3,
     "metadata": {},
     "output_type": "execute_result"
    }
   ],
   "source": [
    "# Plot the equilibrium manifold and phase space\n",
    "U1 = np.linspace(0,R)\n",
    "U2 = delE*(R-U1)/(delE-U1)\n",
    "\n",
    "def slopefie(U1,U2):\n",
    "    dU1 = 1/Cm*(-U1+g*U2/R*(delE-U1)+R)\n",
    "    dU2 = 1/Cm*(-U2+g*U1/R*(delE-U2)+R)\n",
    "    return dU1,dU2\n",
    "\n",
    "U1ax,U2ax=np.meshgrid(U1,U1)\n",
    "dU1,dU2 = slopefie(U1ax,U2ax)\n",
    "\n",
    "plt.figure(figsize=(15,15))\n",
    "plt.plot(U1,U2,label='Equilibrium Manifold',linewidth=10)\n",
    "plt.plot(U1,U1,linestyle=':',label='$U_1^*=U_2^*$',linewidth=5)\n",
    "plt.quiver(U1ax,U2ax,dU1,dU2,scale=50)\n",
    "plt.xlabel('$U_1$')\n",
    "plt.ylabel('$U_2$')\n",
    "plt.legend()"
   ]
  },
  {
   "cell_type": "code",
   "execution_count": 4,
   "id": "legislative-commission",
   "metadata": {},
   "outputs": [],
   "source": [
    "dt = 1 # ms\n",
    "tStart = 200 # ms\n",
    "tEnd = 700 # ms\n",
    "tMax = 1000 # ms\n",
    "t = np.arange(0,tMax,dt)\n",
    "numSteps = np.size(t)\n",
    "tPred = np.arange(tStart,tEnd,dt)\n",
    "\n",
    "I = 1 # nA\n",
    "Iapp = np.zeros(numSteps)\n",
    "for i in range(numSteps):\n",
    "    if (t[i]>tStart) and (t[i]<tEnd):\n",
    "        Iapp[i]=I\n",
    "        \n",
    "# Calculate k_i\n",
    "kiLL = 1/(Cm*(2+g))\n",
    "kiUL = (1+g)/(Cm*(2+g))\n",
    "kiMean = 1/(2*Cm)\n",
    "\n",
    "# Compute U(t)\n",
    "U1sim = np.zeros(numSteps)\n",
    "U2sim = np.zeros(numSteps)\n",
    "\n",
    "for i in range(1,numSteps):\n",
    "    U1sim[i] = U1sim[i-1] + dt/Cm*(-Gm*U1sim[i-1] + min(max(U2sim[i-1]/R,0),1)*g*(delE-U1sim[i-1])+Iapp[i-1]+R)\n",
    "    U2sim[i] = U2sim[i-1] + dt/Cm*(-Gm*U2sim[i-1] + min(max(U1sim[i-1]/R,0),1)*g*(delE-U2sim[i-1])+R)"
   ]
  },
  {
   "cell_type": "code",
   "execution_count": 5,
   "id": "compliant-blues",
   "metadata": {},
   "outputs": [
    {
     "data": {
      "application/vnd.jupyter.widget-view+json": {
       "model_id": "33c6d0c13d0941b3bf9e2b225ece93fe",
       "version_major": 2,
       "version_minor": 0
      },
      "text/plain": [
       "Canvas(toolbar=Toolbar(toolitems=[('Home', 'Reset original view', 'home', 'home'), ('Back', 'Back to previous …"
      ]
     },
     "metadata": {},
     "output_type": "display_data"
    }
   ],
   "source": [
    "plt.figure(figsize=(30,15))\n",
    "plt.subplot(2,2,1)\n",
    "plt.plot(t,Iapp,lw=10)\n",
    "plt.xlabel('Time (ms)')\n",
    "plt.ylabel('$I_{app} (nA)$')\n",
    "\n",
    "plt.subplot(2,2,3)\n",
    "plt.plot(t,U1sim,lw=10,label='$U_1$')\n",
    "plt.plot(t,U2sim,lw=10,label='$U_2$',linestyle='--')\n",
    "UpredLL = U1sim[round(tStart/dt)]+kiLL*I*(tPred-tStart)\n",
    "UpredUL = U1sim[round(tStart/dt)]+kiUL*I*(tPred-tStart)\n",
    "UpredMean = U1sim[round(tStart/dt)]+kiMean*I*(tPred-tStart)\n",
    "plt.plot(tPred,UpredLL,label='Low Pred',lw=5)\n",
    "plt.plot(tPred,UpredUL,label='Upper Pred',lw=5)\n",
    "plt.plot(tPred,UpredMean,label='Mean Pred',lw=5)\n",
    "plt.xlabel(('Time (ms)'))\n",
    "plt.ylabel(('U (mV)'))\n",
    "plt.legend()\n",
    "\n",
    "plt.subplot(2,2,(2,4))\n",
    "plt.plot(U1,U2,label='Equilibrium Manifold',linewidth=5)\n",
    "plt.plot(U1,U1,linestyle=':',label='$U_1^*=U_2^*$',linewidth=5)\n",
    "plt.plot(U1sim,U2sim,label='State',linewidth=5)\n",
    "plt.xlabel('$U_1$')\n",
    "plt.ylabel('$U_2$')\n",
    "plt.legend()\n",
    "\n",
    "plt.savefig('Integration_Demo.png')"
   ]
  },
  {
   "cell_type": "code",
   "execution_count": 6,
   "id": "anonymous-manufacturer",
   "metadata": {},
   "outputs": [
    {
     "data": {
      "application/vnd.jupyter.widget-view+json": {
       "model_id": "84183d7f1b72450480769ca15985d7a5",
       "version_major": 2,
       "version_minor": 0
      },
      "text/plain": [
       "Canvas(toolbar=Toolbar(toolitems=[('Home', 'Reset original view', 'home', 'home'), ('Back', 'Back to previous …"
      ]
     },
     "metadata": {},
     "output_type": "display_data"
    },
    {
     "data": {
      "text/plain": [
       "<matplotlib.legend.Legend at 0x7fb1006fef70>"
      ]
     },
     "execution_count": 6,
     "metadata": {},
     "output_type": "execute_result"
    }
   ],
   "source": [
    "# Pulsed positive current input\n",
    "\n",
    "tOn = [200,400,600,800] # ms\n",
    "tOff = [300,500,700,900] # ms\n",
    "tMax = 1000 # ms\n",
    "t = np.arange(0,tMax,dt)\n",
    "numSteps = np.size(t)\n",
    "tPred = np.arange(tStart,tEnd,dt)\n",
    "\n",
    "I = 1 # nA\n",
    "Iapp = np.zeros(numSteps)\n",
    "for index in range(len(tOn)):\n",
    "    for i in range(numSteps):\n",
    "        if (t[i]>tOn[index]) and (t[i]<tOff[index]):\n",
    "            Iapp[i]=I\n",
    "        \n",
    "# Calculate k_i\n",
    "kiLL = 1/(Cm*(2+g))\n",
    "kiUL = (1+g)/(Cm*(2+g))\n",
    "kiMean = 1/(2*Cm)\n",
    "\n",
    "# Compute U(t)\n",
    "U1sim = np.zeros(numSteps)\n",
    "U2sim = np.zeros(numSteps)\n",
    "\n",
    "for i in range(1,numSteps):\n",
    "    U1sim[i] = U1sim[i-1] + dt/Cm*(-Gm*U1sim[i-1] + min(max(U2sim[i-1]/R,0),1)*g*(delE-U1sim[i-1])+Iapp[i-1]+R)\n",
    "    U2sim[i] = U2sim[i-1] + dt/Cm*(-Gm*U2sim[i-1] + min(max(U1sim[i-1]/R,0),1)*g*(delE-U2sim[i-1])+R)\n",
    "    \n",
    "plt.figure(figsize=(30,15))\n",
    "plt.subplot(2,1,1)\n",
    "plt.plot(t,Iapp,lw=10)\n",
    "plt.xlabel('Time (ms)')\n",
    "plt.ylabel('$I_{app} (nA)$')\n",
    "\n",
    "plt.subplot(2,1,2)\n",
    "plt.plot(t,U1sim,lw=10,label='$U_1$')\n",
    "plt.plot(t,U2sim,lw=10,label='$U_2$',linestyle='--')\n",
    "plt.vlines(tOn,ymin=0,ymax=max(U1sim)+1,color='k',linestyle=':')\n",
    "plt.vlines(tOff,ymin=0,ymax=max(U1sim)+1,color='k',linestyle=':')\n",
    "plt.xlabel(('Time (ms)'))\n",
    "plt.ylabel(('U (mV)'))\n",
    "plt.legend()"
   ]
  },
  {
   "cell_type": "code",
   "execution_count": 7,
   "id": "green-luxury",
   "metadata": {},
   "outputs": [
    {
     "data": {
      "application/vnd.jupyter.widget-view+json": {
       "model_id": "5a9aa66a36ac4d558454e75227104291",
       "version_major": 2,
       "version_minor": 0
      },
      "text/plain": [
       "Canvas(toolbar=Toolbar(toolitems=[('Home', 'Reset original view', 'home', 'home'), ('Back', 'Back to previous …"
      ]
     },
     "metadata": {},
     "output_type": "display_data"
    },
    {
     "data": {
      "text/plain": [
       "<matplotlib.legend.Legend at 0x7fb1016e3d90>"
      ]
     },
     "execution_count": 7,
     "metadata": {},
     "output_type": "execute_result"
    }
   ],
   "source": [
    "# Alternating Current input\n",
    "\n",
    "tStart = 200\n",
    "tOn = [200,400,600,800] # ms\n",
    "tOff = [300,500,700,900] # ms\n",
    "tMax = 1000 # ms\n",
    "t = np.arange(0,tMax,dt)\n",
    "numSteps = np.size(t)\n",
    "tPred = np.arange(tStart,tEnd,dt)\n",
    "\n",
    "I = 1 # nA\n",
    "Iapp = np.zeros(numSteps)\n",
    "for i in range(numSteps):\n",
    "    if t[i]>tStart:\n",
    "        Iapp[i] = -I\n",
    "for index in range(len(tOn)):\n",
    "    for i in range(numSteps):\n",
    "        if (t[i]>tOn[index]) and (t[i]<tOff[index]):\n",
    "            Iapp[i]=I\n",
    "\n",
    "        \n",
    "# Calculate k_i\n",
    "kiLL = 1/(Cm*(2+g))\n",
    "kiUL = (1+g)/(Cm*(2+g))\n",
    "kiMean = 1/(2*Cm)\n",
    "\n",
    "# Compute U(t)\n",
    "U1sim = np.zeros(numSteps)\n",
    "U2sim = np.zeros(numSteps)\n",
    "\n",
    "for i in range(1,numSteps):\n",
    "    U1sim[i] = U1sim[i-1] + dt/Cm*(-Gm*U1sim[i-1] + min(max(U2sim[i-1]/R,0),1)*g*(delE-U1sim[i-1])+Iapp[i-1]+R)\n",
    "    U2sim[i] = U2sim[i-1] + dt/Cm*(-Gm*U2sim[i-1] + min(max(U1sim[i-1]/R,0),1)*g*(delE-U2sim[i-1])+R)\n",
    "    \n",
    "plt.figure(figsize=(30,15))\n",
    "plt.subplot(2,1,1)\n",
    "plt.plot(t,Iapp,lw=10)\n",
    "plt.xlabel('Time (ms)')\n",
    "plt.ylabel('$I_{app} (nA)$')\n",
    "\n",
    "plt.subplot(2,1,2)\n",
    "plt.plot(t,U1sim,lw=10,label='$U_1$')\n",
    "plt.plot(t,U2sim,lw=10,label='$U_2$',linestyle='--')\n",
    "plt.vlines(tOn,ymin=0,ymax=max(U1sim)+1,color='k',linestyle=':')\n",
    "plt.vlines(tOff,ymin=0,ymax=max(U1sim)+1,color='k',linestyle=':')\n",
    "plt.xlabel(('Time (ms)'))\n",
    "plt.ylabel(('U (mV)'))\n",
    "plt.legend()"
   ]
  },
  {
   "cell_type": "code",
   "execution_count": 8,
   "id": "dimensional-manner",
   "metadata": {},
   "outputs": [
    {
     "data": {
      "text/plain": [
       "\"\\n# Code for generating the animation, takes too long to run in class but could be nice at home\\n\\nfig = plt.figure(figsize=(30,15))\\naxIapp = plt.subplot(2,2,1)\\naxU = plt.subplot(2,2,3)\\naxPhase = plt.subplot(2,2,(2,4))\\n\\naxIapp.set_xlim((0,tMax))\\naxIapp.set_ylim((0,I))\\naxIapp.set_xlabel('Time (ms)')\\naxIapp.set_ylabel('$I_{app}$')\\n\\naxU.set_xlim((0,tMax))\\naxU.set_ylim((0,R))\\naxU.set_xlabel(('Time (ms)'))\\naxU.set_ylabel(('U (mV)'))\\n\\naxPhase.set_xlim((0,R))\\naxPhase.set_ylim((0,R))\\naxPhase.set_xlabel('$U_1$')\\naxPhase.set_ylabel('$U_2$')\\n\\ncurrent, = axIapp.plot([],[],lw=10)\\n\\nU1curve, = axU.plot([],[],lw=10,label='$U_1$')\\nU2curve, = axU.plot([],[],lw=10,label='$U_2$',linestyle='--')\\nUpredLL = U1sim[round(tStart/dt)]+kiLL*I*(tPred-tStart)\\nUpredUL = U1sim[round(tStart/dt)]+kiUL*I*(tPred-tStart)\\nUpredMean = U1sim[round(tStart/dt)]+kiMean*I*(tPred-tStart)\\naxU.plot(tPred,UpredLL,label='Low Pred',lw=5)\\naxU.plot(tPred,UpredUL,label='Upper Pred',lw=5)\\naxU.plot(tPred,UpredMean,label='Mean Pred',lw=5)\\naxU.legend()\\n\\naxPhase.plot(U1,U2,label='Equilibrium Manifold',linewidth=5)\\naxPhase.plot(U1,U1,linestyle=':',label='$U_1^*=U_2^*$',linewidth=5)\\nU1Phase, = axPhase.plot([],[],lw=5,label='$U_1$')\\naxPhase.legend()\\n\\ndef drawframe(i):\\n    #print(i)\\n    current.set_data(t[:i],Iapp[:i])\\n    U1curve.set_data(t[:i],U1sim[:i])\\n    U2curve.set_data(t[:i],U2sim[:i])\\n    U1Phase.set_data(U1sim[:i],U2sim[:i])\\n    \\n    return(current,U1curve,U2curve,U1Phase)\\n    \\n\\n\\nanim = animation.FuncAnimation(fig, drawframe, frames=numSteps,interval=0.5, blit=True,repeat=False,save_count=numSteps)\\n\""
      ]
     },
     "execution_count": 8,
     "metadata": {},
     "output_type": "execute_result"
    }
   ],
   "source": [
    "\"\"\"\n",
    "# Code for generating the animation, takes too long to run in class but could be nice at home\n",
    "\n",
    "fig = plt.figure(figsize=(30,15))\n",
    "axIapp = plt.subplot(2,2,1)\n",
    "axU = plt.subplot(2,2,3)\n",
    "axPhase = plt.subplot(2,2,(2,4))\n",
    "\n",
    "axIapp.set_xlim((0,tMax))\n",
    "axIapp.set_ylim((0,I))\n",
    "axIapp.set_xlabel('Time (ms)')\n",
    "axIapp.set_ylabel('$I_{app}$')\n",
    "\n",
    "axU.set_xlim((0,tMax))\n",
    "axU.set_ylim((0,R))\n",
    "axU.set_xlabel(('Time (ms)'))\n",
    "axU.set_ylabel(('U (mV)'))\n",
    "\n",
    "axPhase.set_xlim((0,R))\n",
    "axPhase.set_ylim((0,R))\n",
    "axPhase.set_xlabel('$U_1$')\n",
    "axPhase.set_ylabel('$U_2$')\n",
    "\n",
    "current, = axIapp.plot([],[],lw=10)\n",
    "\n",
    "U1curve, = axU.plot([],[],lw=10,label='$U_1$')\n",
    "U2curve, = axU.plot([],[],lw=10,label='$U_2$',linestyle='--')\n",
    "UpredLL = U1sim[round(tStart/dt)]+kiLL*I*(tPred-tStart)\n",
    "UpredUL = U1sim[round(tStart/dt)]+kiUL*I*(tPred-tStart)\n",
    "UpredMean = U1sim[round(tStart/dt)]+kiMean*I*(tPred-tStart)\n",
    "axU.plot(tPred,UpredLL,label='Low Pred',lw=5)\n",
    "axU.plot(tPred,UpredUL,label='Upper Pred',lw=5)\n",
    "axU.plot(tPred,UpredMean,label='Mean Pred',lw=5)\n",
    "axU.legend()\n",
    "\n",
    "axPhase.plot(U1,U2,label='Equilibrium Manifold',linewidth=5)\n",
    "axPhase.plot(U1,U1,linestyle=':',label='$U_1^*=U_2^*$',linewidth=5)\n",
    "U1Phase, = axPhase.plot([],[],lw=5,label='$U_1$')\n",
    "axPhase.legend()\n",
    "\n",
    "def drawframe(i):\n",
    "    #print(i)\n",
    "    current.set_data(t[:i],Iapp[:i])\n",
    "    U1curve.set_data(t[:i],U1sim[:i])\n",
    "    U2curve.set_data(t[:i],U2sim[:i])\n",
    "    U1Phase.set_data(U1sim[:i],U2sim[:i])\n",
    "    \n",
    "    return(current,U1curve,U2curve,U1Phase)\n",
    "    \n",
    "\n",
    "\n",
    "anim = animation.FuncAnimation(fig, drawframe, frames=numSteps,interval=0.5, blit=True,repeat=False,save_count=numSteps)\n",
    "\"\"\""
   ]
  }
 ],
 "metadata": {
  "kernelspec": {
   "display_name": "Python 3",
   "language": "python",
   "name": "python3"
  },
  "language_info": {
   "codemirror_mode": {
    "name": "ipython",
    "version": 3
   },
   "file_extension": ".py",
   "mimetype": "text/x-python",
   "name": "python",
   "nbconvert_exporter": "python",
   "pygments_lexer": "ipython3",
   "version": "3.8.5"
  }
 },
 "nbformat": 4,
 "nbformat_minor": 5
}
