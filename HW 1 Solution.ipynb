{
 "cells": [
  {
   "cell_type": "markdown",
   "id": "opposite-logic",
   "metadata": {},
   "source": [
    "# Synthetic Nervous Systems: Spring 2021\n",
    "## Homework 1: Solutions/Grading Key\n",
    "### William Nourse, February 24th, 2021"
   ]
  },
  {
   "cell_type": "markdown",
   "id": "documented-airplane",
   "metadata": {},
   "source": [
    "# 1. Single Neuron Exercise (10pts)"
   ]
  },
  {
   "cell_type": "markdown",
   "id": "russian-tragedy",
   "metadata": {},
   "source": [
    "## a. Start with the neuron response equation. Transform it to be in terms of U instead. (1 pt)\n",
    "\n",
    "$$ C_m\\cdot\\frac{dV}{dt} = G_m\\cdot(E_r-V)+I_{app}$$\n",
    "$$ C_m\\cdot\\frac{dU}{dt} = G_m\\cdot(E_r-(U+E_r))+I_{app}$$\n",
    "### $$ C_m\\cdot\\frac{dU}{dt} = G_m\\cdot U+I_{app}$$"
   ]
  },
  {
   "cell_type": "markdown",
   "id": "expected-equilibrium",
   "metadata": {},
   "source": [
    "## b. Start a new programming script. Write a single-neuron simulator, in which your program calculates $U_{sim}(t)$ and plots it. Give the neuron a step input and save the plot. (1 pt)"
   ]
  },
  {
   "cell_type": "code",
   "execution_count": 1,
   "id": "declared-mustang",
   "metadata": {},
   "outputs": [
    {
     "data": {
      "application/vnd.jupyter.widget-view+json": {
       "model_id": "ac34e18bcfd24e63879ac27ddf31719b",
       "version_major": 2,
       "version_minor": 0
      },
      "text/plain": [
       "Canvas(toolbar=Toolbar(toolitems=[('Home', 'Reset original view', 'home', 'home'), ('Back', 'Back to previous …"
      ]
     },
     "metadata": {},
     "output_type": "display_data"
    },
    {
     "data": {
      "text/plain": [
       "Text(0.5, 1.0, 'U')"
      ]
     },
     "execution_count": 1,
     "metadata": {},
     "output_type": "execute_result"
    }
   ],
   "source": [
    "import numpy as np\n",
    "import matplotlib\n",
    "import matplotlib.pyplot as plt\n",
    "from ipywidgets import interact_manual\n",
    "%matplotlib widget\n",
    "\n",
    "# Variables\n",
    "Cm = 10 # nF\n",
    "Gm = 1 # uS\n",
    "Iapp = 10 # nA\n",
    "dt = 0.1 # ms\n",
    "tmax = 100 # ms\n",
    "\n",
    "t = np.arange(0,tmax,dt)\n",
    "numSteps = np.size(t)\n",
    "\n",
    "# Compute U(t) with simulation\n",
    "Usim = np.zeros(np.size(t))\n",
    "\n",
    "for i in range(1,numSteps):\n",
    "    Usim[i] = Usim[i-1] + dt/Cm*(Iapp - Gm*Usim[i-1])\n",
    "    \n",
    "plt.figure(figsize=(15,15))\n",
    "plt.axhline(y=Iapp,linestyle=':',color='k',linewidth=5)\n",
    "plt.plot(t,Usim,label='Simulated',linewidth=10)\n",
    "plt.ylabel('U (mV)')\n",
    "plt.xlabel('t (ms)')\n",
    "plt.title('U')"
   ]
  },
  {
   "cell_type": "markdown",
   "id": "unlimited-pleasure",
   "metadata": {},
   "source": [
    "## c. Solve the differential equation in a) and determine the step response of a neuron analytically. Assume that the input is Iapp, so the neuron voltage response to a step input current. Have your program plot this response, Uexact(t), along with your simulated solution. (1 pt)\n",
    "### $$U(t) = \\frac{I_{app}}{G_m}\\cdot(1-e^{-t/\\tau_m})$$"
   ]
  },
  {
   "cell_type": "code",
   "execution_count": 2,
   "id": "recent-noise",
   "metadata": {},
   "outputs": [
    {
     "data": {
      "application/vnd.jupyter.widget-view+json": {
       "model_id": "3eedce7d46064222ad88f0b8c7e1bbde",
       "version_major": 2,
       "version_minor": 0
      },
      "text/plain": [
       "Canvas(toolbar=Toolbar(toolitems=[('Home', 'Reset original view', 'home', 'home'), ('Back', 'Back to previous …"
      ]
     },
     "metadata": {},
     "output_type": "display_data"
    },
    {
     "data": {
      "text/plain": [
       "Text(0.5, 1.0, 'U')"
      ]
     },
     "execution_count": 2,
     "metadata": {},
     "output_type": "execute_result"
    }
   ],
   "source": [
    "# Compute U(t) explicitly\n",
    "tau = Cm/Gm\n",
    "Uexp = Iapp/Gm*(1-np.exp(-t/tau))\n",
    "\n",
    "# Compare with the simulated solution\n",
    "plt.figure(figsize=(15,15))\n",
    "plt.axhline(y=Iapp,linestyle=':',color='k',linewidth=5)\n",
    "plt.plot(t,Uexp,label='Explicit',linewidth=10)\n",
    "plt.plot(t,Usim,'--',label='Simulated',linewidth=10)\n",
    "plt.legend()\n",
    "plt.ylabel('U (mV)')\n",
    "plt.xlabel('t (ms)')\n",
    "plt.title('U')"
   ]
  },
  {
   "cell_type": "markdown",
   "id": "coordinate-donna",
   "metadata": {},
   "source": [
    "## d. How large of a time step should your simulation use?"
   ]
  },
  {
   "cell_type": "markdown",
   "id": "herbal-klein",
   "metadata": {},
   "source": [
    "## d. i. First calculate what the theoretical upper bound is, given the time constant of your choice. (1 pt)\n",
    "### For Stable Simulation: $\\Delta t = 2\\tau_m$, For Real Simulation: $\\Delta t = \\tau_m$\n",
    "### So in my example, those are $\\Delta t$'s of 20 or 10, respectively"
   ]
  },
  {
   "cell_type": "markdown",
   "id": "spanish-restoration",
   "metadata": {},
   "source": [
    "## d. ii. Create a loop wherein you repeat your simulated and exact solution with a different time step each time. Begin with the theoretically largest possible time step, and then divide by 10 every time you complete the loop. Do this to test 5 values. (1 pt)\n",
    "## d. iii. Each time through the loop, save both the mean accuracy of the simulated values compared to the exact solution, and the time needed to complete the computation. Run your simulation for a long time (1000 times the duration of your largest time step) so that you notice a difference in the time taken to complete the simulation in the loop. (1 pt)\n",
    "## d. iv. Plot the accuracy of the simulation versus the simulation time step, and the time needed to complete the computation versus the simulation time step. Use logarithmic axes to better observe these changes. (1 pt)\n",
    "### Stable:"
   ]
  },
  {
   "cell_type": "code",
   "execution_count": 3,
   "id": "adjusted-south",
   "metadata": {},
   "outputs": [
    {
     "name": "stdout",
     "output_type": "stream",
     "text": [
      "20.0\n",
      "2.0\n",
      "0.2\n",
      "0.02\n",
      "0.002\n"
     ]
    },
    {
     "data": {
      "application/vnd.jupyter.widget-view+json": {
       "model_id": "1cff921d505f48fba70135207f272e94",
       "version_major": 2,
       "version_minor": 0
      },
      "text/plain": [
       "Canvas(toolbar=Toolbar(toolitems=[('Home', 'Reset original view', 'home', 'home'), ('Back', 'Back to previous …"
      ]
     },
     "metadata": {},
     "output_type": "display_data"
    }
   ],
   "source": [
    "from time import time\n",
    "dts = [2*tau,2*tau/10,2*tau/100,2*tau/1000,2*tau/10000]\n",
    "error = np.zeros(np.size(dts))\n",
    "times = np.zeros(np.size(dts))\n",
    "for i in range(np.size(dts)):\n",
    "    print(dts[i])\n",
    "    tic = time()\n",
    "    t = np.arange(0,1000*2*tau,dts[i])\n",
    "    numSteps = np.size(t)\n",
    "    Uexp = Iapp/Gm*(1-np.exp(-t/tau))\n",
    "\n",
    "    # Compute U(t) with simulation\n",
    "    Usim = np.zeros(np.size(t))\n",
    "\n",
    "    for j in range(1,numSteps):\n",
    "        Usim[j] = Usim[j-1] + dts[i]/Cm*(Iapp - Gm*Usim[j-1])\n",
    "    toc = time()\n",
    "    error[i] = np.mean(Usim-Uexp)\n",
    "    times[i] = toc - tic\n",
    "    \n",
    "plt.figure(figsize=(30,15))\n",
    "plt.subplot(1,3,1)\n",
    "plt.plot(dts,error)\n",
    "plt.xscale('log')\n",
    "plt.yscale('log')\n",
    "plt.title('Mean Error Magnitude (Stable)')\n",
    "\n",
    "plt.subplot(1,3,2)\n",
    "plt.plot(dts,times)\n",
    "plt.xscale('log')\n",
    "plt.yscale('log')\n",
    "plt.title('Simulation Time (Stable)')\n",
    "\n",
    "plt.subplot(1,3,3)\n",
    "plt.plot(dts,error*times)\n",
    "plt.title(str(dts[np.argmin(error*times)]))\n",
    "plt.scatter(dts[np.argmin(error*times)],min(error*times))\n",
    "plt.xscale('log')\n",
    "plt.yscale('log')"
   ]
  },
  {
   "cell_type": "markdown",
   "id": "golden-glucose",
   "metadata": {},
   "source": [
    "### Real"
   ]
  },
  {
   "cell_type": "code",
   "execution_count": 4,
   "id": "heard-microphone",
   "metadata": {},
   "outputs": [
    {
     "name": "stdout",
     "output_type": "stream",
     "text": [
      "10.0\n",
      "1.0\n",
      "0.1\n",
      "0.01\n",
      "0.001\n"
     ]
    },
    {
     "data": {
      "application/vnd.jupyter.widget-view+json": {
       "model_id": "d0bbb02ca1e24380abf30cfb210a9438",
       "version_major": 2,
       "version_minor": 0
      },
      "text/plain": [
       "Canvas(toolbar=Toolbar(toolitems=[('Home', 'Reset original view', 'home', 'home'), ('Back', 'Back to previous …"
      ]
     },
     "metadata": {},
     "output_type": "display_data"
    }
   ],
   "source": [
    "dts = [tau,tau/10,tau/100,tau/1000,tau/10000]\n",
    "error = np.zeros(np.size(dts))\n",
    "times = np.zeros(np.size(dts))\n",
    "for i in range(np.size(dts)):\n",
    "    print(dts[i])\n",
    "    tic = time()\n",
    "    t = np.arange(0,1000*2*tau,dts[i])\n",
    "    numSteps = np.size(t)\n",
    "    Uexp = Iapp/Gm*(1-np.exp(-t/tau))\n",
    "\n",
    "    # Compute U(t) with simulation\n",
    "    Usim = np.zeros(np.size(t))\n",
    "\n",
    "    for j in range(1,numSteps):\n",
    "        Usim[j] = Usim[j-1] + dts[i]/Cm*(Iapp - Gm*Usim[j-1])\n",
    "    toc = time()\n",
    "    error[i] = np.mean(Usim-Uexp)\n",
    "    times[i] = toc - tic\n",
    "    \n",
    "plt.figure(figsize=(30,15))\n",
    "plt.subplot(1,3,1)\n",
    "plt.plot(dts,error)\n",
    "plt.xscale('log')\n",
    "plt.yscale('log')\n",
    "plt.title('Mean Error Magnitude (Stable)')\n",
    "\n",
    "plt.subplot(1,3,2)\n",
    "plt.plot(dts,times)\n",
    "plt.xscale('log')\n",
    "plt.yscale('log')\n",
    "plt.title('Simulation Time (Stable)')\n",
    "\n",
    "plt.subplot(1,3,3)\n",
    "plt.plot(dts,error*times)\n",
    "plt.title(str(dts[np.argmin(error*times)]))\n",
    "plt.scatter(dts[np.argmin(error*times)],min(error*times))\n",
    "plt.xscale('log')\n",
    "plt.yscale('log')"
   ]
  },
  {
   "cell_type": "markdown",
   "id": "weird-monte",
   "metadata": {},
   "source": [
    "## d. v. Write: are their clear trends in these metrics as the time step changes? Is there an optimal time step based on these two metrics? Can you predict the optimal time step based on the neuron’s parameter values? (1 pt)\n",
    "\n",
    "### They could answer this question different ways (would prefer the Real scenario, but they may do the Stable scenario). The key takeaway though is that as dt increases, error magnitude goes up and simulation time goes down. You can find the \"ideal\" timestep by multiplying the errors by the time, and the lowest resulting value corresponds to the timestep. In this case, it is around 0.1 or 0.3, or maxDt/1000. Depending on which technique they chose."
   ]
  },
  {
   "cell_type": "markdown",
   "id": "employed-insulation",
   "metadata": {},
   "source": [
    "## e. Differentiate the step response of the neuron in c) to determine the impulse response. (1 pt)\n",
    "\n",
    "$$ impulse = \\frac{d}{dt}(1-e^{-t/\\tau_m})$$\n",
    "### $$ impulse = \\frac{1}{\\tau_m}e^{-t/\\tau_m}$$"
   ]
  },
  {
   "cell_type": "markdown",
   "id": "liberal-glossary",
   "metadata": {},
   "source": [
    "## f. Convolve your input current with the impulse response to calculate the response of the neuron. Plot this solution for U(t) along with or on top of your others. (1 pt)"
   ]
  },
  {
   "cell_type": "code",
   "execution_count": 5,
   "id": "solved-forwarding",
   "metadata": {},
   "outputs": [
    {
     "data": {
      "application/vnd.jupyter.widget-view+json": {
       "model_id": "19550439b3e54ecd9152b2e8499d6072",
       "version_major": 2,
       "version_minor": 0
      },
      "text/plain": [
       "Canvas(toolbar=Toolbar(toolitems=[('Home', 'Reset original view', 'home', 'home'), ('Back', 'Back to previous …"
      ]
     },
     "metadata": {},
     "output_type": "display_data"
    },
    {
     "data": {
      "text/plain": [
       "Text(0.5, 1.0, 'U')"
      ]
     },
     "execution_count": 5,
     "metadata": {},
     "output_type": "execute_result"
    }
   ],
   "source": [
    "# Variables\n",
    "Cm = 10 # nF\n",
    "Gm = 1 # uS\n",
    "Iapp = 10 # nA\n",
    "dt = 0.1 # ms\n",
    "tmax = 100 # ms\n",
    "\n",
    "t = np.arange(0,tmax,dt)\n",
    "numSteps = np.size(t)\n",
    "\n",
    "# Compute U(t) with simulation\n",
    "Usim = np.zeros(np.size(t))\n",
    "\n",
    "for i in range(1,numSteps):\n",
    "    Usim[i] = Usim[i-1] + dt/Cm*(Iapp - Gm*Usim[i-1])\n",
    "    \n",
    "# Compute U(t) explicitly\n",
    "tau = Cm/Gm\n",
    "Uexp = Iapp/Gm*(1-np.exp(-t/tau))\n",
    "\n",
    "# Compute impulse response\n",
    "Uimp = 1/tau*np.exp(-t/tau)\n",
    "Uconv = dt*np.convolve(Iapp+np.zeros(numSteps),Uimp)\n",
    "\n",
    "# Compare with the simulated solution\n",
    "plt.figure(figsize=(15,15))\n",
    "plt.axhline(y=Iapp,linestyle=':',color='k',linewidth=5)\n",
    "plt.plot(t,Uexp,label='Explicit',linewidth=10)\n",
    "plt.plot(t,Usim,'--',label='Simulated',linewidth=10)\n",
    "plt.plot(t,Uconv[0:numSteps],':',label='Convolved',linewidth=10)\n",
    "plt.legend()\n",
    "plt.ylabel('U (mV)')\n",
    "plt.xlabel('t (ms)')\n",
    "plt.title('U')"
   ]
  },
  {
   "cell_type": "markdown",
   "id": "sought-forest",
   "metadata": {},
   "source": [
    "# 2. Synapse Design Exercise (10 pts)"
   ]
  },
  {
   "cell_type": "markdown",
   "id": "contained-joint",
   "metadata": {},
   "source": [
    "## a. Save a new script based on your single neuron script.\n",
    "## b. Design a signal transmission synapse with k=1, R=20,Esyn=-20mV. (2 pts)\n",
    "$$ g_{syn} = \\frac{k\\cdot R}{\\Delta E_{syn} - k\\cdot R} = \\frac{k\\cdot R}{(E_{syn}-E_r) - k\\cdot R}$$\n",
    "$$ g_{syn} = \\frac{20}{40-20}$$\n",
    "### $$ g_{syn} = 1 \\mu S$$\n",
    "## c. Add the new synapse and a presynaptic neuron to your simulation. Run the simulation and make sure that the results make sense. Plot U1,sim(t) and U2,sim(t). (2 pts)"
   ]
  },
  {
   "cell_type": "code",
   "execution_count": 9,
   "id": "discrete-communist",
   "metadata": {},
   "outputs": [
    {
     "data": {
      "application/vnd.jupyter.widget-view+json": {
       "model_id": "43be9c33535a4a818668276f74a51679",
       "version_major": 2,
       "version_minor": 0
      },
      "text/plain": [
       "Canvas(toolbar=Toolbar(toolitems=[('Home', 'Reset original view', 'home', 'home'), ('Back', 'Back to previous …"
      ]
     },
     "metadata": {},
     "output_type": "display_data"
    },
    {
     "data": {
      "text/plain": [
       "<matplotlib.legend.Legend at 0x7fd4459fe400>"
      ]
     },
     "execution_count": 9,
     "metadata": {},
     "output_type": "execute_result"
    }
   ],
   "source": [
    "# Variables\n",
    "Cm = 10 # nF\n",
    "Gm = 1 # uS\n",
    "Iapp = 10 # nA\n",
    "dt = 0.1 # ms\n",
    "tmax = 100 # ms\n",
    "\n",
    "t = np.arange(0,tmax,dt)\n",
    "numSteps = np.size(t)\n",
    "\n",
    "k = 1\n",
    "R = 20\n",
    "Esyn = -20\n",
    "Er = -60\n",
    "delEsyn = Esyn - Er\n",
    "gSyn = (k*R)/(delEsyn-k*R)\n",
    "\n",
    "# Compute U(t) with simulation\n",
    "U1sim = np.zeros(np.size(t))\n",
    "U2sim = np.zeros(np.size(t))\n",
    "\n",
    "for i in range(1,numSteps):\n",
    "    U1sim[i] = U1sim[i-1] + dt/Cm*(Iapp - Gm*U1sim[i-1])\n",
    "    U2sim[i] = U2sim[i-1] + dt/Cm*(gSyn*min(max(U1sim[i-1]/R,0),1)*(delEsyn-U2sim[i-1]) - Gm*U2sim[i-1])\n",
    "    \n",
    "#plt.figure(figsize=(15,15))\n",
    "plt.figure()\n",
    "plt.axhline(y=Iapp,linestyle=':',color='k',linewidth=5)\n",
    "plt.plot(t,U1sim,label='U1',linewidth=10)\n",
    "plt.plot(t,U2sim,label='U2',linewidth=10)\n",
    "plt.ylabel('U (mV)')\n",
    "plt.xlabel('t (ms)')\n",
    "plt.title('U')\n",
    "plt.legend()"
   ]
  },
  {
   "cell_type": "markdown",
   "id": "excess-radar",
   "metadata": {},
   "source": [
    "## d. Calculate the postsynaptic neuron’s steady-state voltage U2* as a function of U1(t).  U2* should be a vector as long as U1(t). (2 pts)\n",
    "\n",
    "$$ U_2^* = \\frac{g_{syn}\\frac{U_1(t)}{R}\\Delta E_{syn}}{1+g_{syn}\\frac{U_1(t)}{R}} $$\n",
    "\n",
    "## U2* should be a vector as long as U1(t). Convolve U2* with neuron 2’s impulse response. Plot this along with your simulated solution. Is the convolved response the same as the simulated solution. Do they have the same steady-state value? Does one solution appear to have faster dynamics than the other? If there are differences, why do they arise? Write out your response, pointing to mathematical reasons as to why this could be. (2 pts)"
   ]
  },
  {
   "cell_type": "code",
   "execution_count": 10,
   "id": "planned-departure",
   "metadata": {},
   "outputs": [
    {
     "data": {
      "application/vnd.jupyter.widget-view+json": {
       "model_id": "29ecf78010e5414bb3a691895ee51045",
       "version_major": 2,
       "version_minor": 0
      },
      "text/plain": [
       "Canvas(toolbar=Toolbar(toolitems=[('Home', 'Reset original view', 'home', 'home'), ('Back', 'Back to previous …"
      ]
     },
     "metadata": {},
     "output_type": "display_data"
    },
    {
     "data": {
      "text/plain": [
       "<matplotlib.legend.Legend at 0x7fd4459f0fa0>"
      ]
     },
     "execution_count": 10,
     "metadata": {},
     "output_type": "execute_result"
    }
   ],
   "source": [
    "U2str = (gSyn*U1sim/R*delEsyn)/(1+gSyn*U1sim/R)\n",
    "U2conv = dt*np.convolve(U2str,Uimp)\n",
    "plt.figure()\n",
    "plt.axhline(y=Iapp,linestyle=':',color='k',linewidth=5)\n",
    "plt.plot(t,U2sim,label='Simulated',linewidth=10)\n",
    "plt.plot(t,U2str,label='Convolution',linewidth=10)\n",
    "plt.ylabel('U (mV)')\n",
    "plt.xlabel('t (ms)')\n",
    "plt.title('U')\n",
    "plt.legend()"
   ]
  },
  {
   "cell_type": "markdown",
   "id": "human-niger",
   "metadata": {},
   "source": [
    "### The steady-state behavior of the simulated and convolved solutions are the same, however the transient behavior is very different. When we did the convolved solution, we treated the input from the presynaptic neuron as if it were at steady-state, even though it isn't. Additionally, the convolution can only accurately be used to calculate the output of an LTI system. Because of the synaptic connection, this system is no longer LTI.\n",
    "\n",
    "## e. Design a modulation synapse with c=50%. Add the new synapse and a presynaptic neuron to your simulation, with the synapse modulating U2. Plot U1,sim(t) and U2,sim(t). (2 pts)\n",
    "\n",
    "$$ g_{mod} = \\frac{1}{C}-1 = 2 -1 = 1\\mu S$$"
   ]
  },
  {
   "cell_type": "code",
   "execution_count": 13,
   "id": "crucial-poetry",
   "metadata": {},
   "outputs": [
    {
     "data": {
      "application/vnd.jupyter.widget-view+json": {
       "model_id": "6452f3c426f44100a994b2ef92ec2e14",
       "version_major": 2,
       "version_minor": 0
      },
      "text/plain": [
       "Canvas(toolbar=Toolbar(toolitems=[('Home', 'Reset original view', 'home', 'home'), ('Back', 'Back to previous …"
      ]
     },
     "metadata": {},
     "output_type": "display_data"
    },
    {
     "data": {
      "text/plain": [
       "<matplotlib.legend.Legend at 0x7fd445870eb0>"
      ]
     },
     "execution_count": 13,
     "metadata": {},
     "output_type": "execute_result"
    }
   ],
   "source": [
    "gMod = 1\n",
    "delEmod = 0\n",
    "# Compute U(t) with simulation\n",
    "U1sim = np.zeros(np.size(t))\n",
    "U2sim = np.zeros(np.size(t))\n",
    "Umod = np.zeros(np.size(t))\n",
    "Imod = R\n",
    "Iapp = 10\n",
    "\n",
    "for i in range(1,numSteps):\n",
    "    U1sim[i] = U1sim[i-1] + dt/Cm*(Iapp - Gm*U1sim[i-1])\n",
    "    Umod[i] = Umod[i-1] + dt/Cm*(Imod - Gm*Umod[i-1])\n",
    "    U2sim[i] = U2sim[i-1] + dt/Cm*(gSyn*min(max(U1sim[i-1]/R,0),1)*(delEsyn-U2sim[i-1]) + gMod*min(max(Umod[i-1]/R,0),1)*(delEmod-U2sim[i-1]) - Gm*U2sim[i-1])\n",
    "    \n",
    "#plt.figure(figsize=(15,15))\n",
    "plt.figure()\n",
    "plt.axhline(y=Iapp,linestyle=':',color='k',linewidth=5)\n",
    "plt.plot(t,U1sim,label='U1',linewidth=10)\n",
    "plt.plot(t,U2sim,label='U2',linewidth=10)\n",
    "plt.ylabel('U (mV)')\n",
    "plt.xlabel('t (ms)')\n",
    "plt.title('U')\n",
    "plt.legend()"
   ]
  },
  {
   "cell_type": "markdown",
   "id": "mounted-purple",
   "metadata": {},
   "source": [
    "# 3. Arithmetic Network Design Exercise (10 pts)\n",
    "## a. Design an addition subnetwork with the following gains: k1 = 0.75, k2 = 0.5 (3 pts)\n",
    "$$ R = 20,\\; \\Delta E_{add} = 100$$\n",
    "$$ g_{add} = \\frac{k\\cdot R}{\\Delta E_{add} - k\\cdot R}$$\n",
    "$$ g_{1} = \\frac{0.75\\cdot 20}{100 - 0.75\\cdot 20} = \\frac{3}{17}$$\n",
    "$$ g_{2} = \\frac{0.5\\cdot 20}{100 - 0.5\\cdot 20} = \\frac{1}{9}$$\n",
    "$$ U_3^* = \\frac{g_1\\cdot\\frac{U_1^*}{R}\\cdot\\Delta E_{add} + g_2\\cdot\\frac{U_2^*}{R}\\cdot\\Delta E_{add}}{1 + g_1\\cdot\\frac{U_1^*}{R} + g_2\\cdot\\frac{U_2^*}{R}}$$\n",
    "## b. Plot the output U3 as a function of U1 and U2. This should be a 3-dimensional curve, similar to the example in class. (2 pts)"
   ]
  },
  {
   "cell_type": "code",
   "execution_count": 21,
   "id": "bright-visit",
   "metadata": {},
   "outputs": [
    {
     "data": {
      "application/vnd.jupyter.widget-view+json": {
       "model_id": "d114b5c9865b4ab89b12b4af553cd686",
       "version_major": 2,
       "version_minor": 0
      },
      "text/plain": [
       "Canvas(toolbar=Toolbar(toolitems=[('Home', 'Reset original view', 'home', 'home'), ('Back', 'Back to previous …"
      ]
     },
     "metadata": {},
     "output_type": "display_data"
    },
    {
     "data": {
      "text/plain": [
       "<mpl_toolkits.mplot3d.art3d.Poly3DCollection at 0x7fd444dd47f0>"
      ]
     },
     "execution_count": 21,
     "metadata": {},
     "output_type": "execute_result"
    }
   ],
   "source": [
    "g1 = (0.75*R)/(100-0.75*R)\n",
    "g2 = (0.5*R)/(100-0.5*R)\n",
    "\n",
    "ran = np.linspace(0,R)\n",
    "U1str, U2str = np.meshgrid(ran,ran)\n",
    "U3str = (g1*U1str/R*100 + g2*U2str/R*100)/(1+g1*U1str/R + g2*U2str/R)\n",
    "\n",
    "from mpl_toolkits.mplot3d import Axes3D\n",
    "fig = plt.figure()\n",
    "ax = fig.add_subplot(111, projection='3d')\n",
    "ax.plot_surface(U1str,U2str,U3str)"
   ]
  },
  {
   "cell_type": "markdown",
   "id": "speaking-combination",
   "metadata": {},
   "source": [
    "## c. Modify your subnetwork so that it is a subtraction network with the following gains: k1 = 0.75, k2 = 0.5 (3 pts)\n",
    "$$ \\Delta E_{sub} = -100$$\n",
    "$$ g_2 = \\frac{-k\\cdot R}{\\Delta E_{sub}+k\\cdot R}$$\n",
    "$$g_2 = \\frac{1}{9}$$\n",
    "$$ U_3^* = \\frac{g_1\\cdot\\frac{U_1^*}{R}\\cdot\\Delta E_{add} + g_2\\cdot\\frac{U_2^*}{R}\\cdot\\Delta E_{sub}}{1 + g_1\\cdot\\frac{U_1^*}{R} + g_2\\cdot\\frac{U_2^*}{R}}$$"
   ]
  },
  {
   "cell_type": "code",
   "execution_count": 23,
   "id": "demographic-morgan",
   "metadata": {},
   "outputs": [
    {
     "data": {
      "application/vnd.jupyter.widget-view+json": {
       "model_id": "df1fdef36cea4e3a97a57dd6c693c338",
       "version_major": 2,
       "version_minor": 0
      },
      "text/plain": [
       "Canvas(toolbar=Toolbar(toolitems=[('Home', 'Reset original view', 'home', 'home'), ('Back', 'Back to previous …"
      ]
     },
     "metadata": {},
     "output_type": "display_data"
    },
    {
     "data": {
      "text/plain": [
       "<mpl_toolkits.mplot3d.art3d.Poly3DCollection at 0x7fd44493d3d0>"
      ]
     },
     "execution_count": 23,
     "metadata": {},
     "output_type": "execute_result"
    }
   ],
   "source": [
    "g1 = (0.75*R)/(100-0.75*R)\n",
    "g2 = (-0.5*R)/(-100+0.5*R)\n",
    "\n",
    "ran = np.linspace(0,R)\n",
    "U1str, U2str = np.meshgrid(ran,ran)\n",
    "U3str = (g1*U1str/R*100 + g2*U2str/R*-100)/(1+g1*U1str/R + g2*U2str/R)\n",
    "\n",
    "from mpl_toolkits.mplot3d import Axes3D\n",
    "fig = plt.figure()\n",
    "ax = fig.add_subplot(111, projection='3d')\n",
    "ax.plot_surface(U1str,U2str,U3str)"
   ]
  },
  {
   "cell_type": "markdown",
   "id": "rotary-substitute",
   "metadata": {},
   "source": [
    "# Part II: Introduction to Animatlab 2 (10 pts)\n",
    "\n",
    "## Please follow and refer to the Animatlab tutorial on Canvas for the detailed procedure and corresponding images. For your report, please include screenshots of the final DataTool_1 and DataTool_2 windows. Rename these as “abc123_Basics” and “abc123_Servo”, where abc123 is your personal network ID."
   ]
  },
  {
   "cell_type": "code",
   "execution_count": null,
   "id": "least-relevance",
   "metadata": {},
   "outputs": [],
   "source": []
  }
 ],
 "metadata": {
  "kernelspec": {
   "display_name": "Python 3",
   "language": "python",
   "name": "python3"
  },
  "language_info": {
   "codemirror_mode": {
    "name": "ipython",
    "version": 3
   },
   "file_extension": ".py",
   "mimetype": "text/x-python",
   "name": "python",
   "nbconvert_exporter": "python",
   "pygments_lexer": "ipython3",
   "version": "3.8.5"
  }
 },
 "nbformat": 4,
 "nbformat_minor": 5
}
